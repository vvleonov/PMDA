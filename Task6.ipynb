{
  "cells": [
    {
      "cell_type": "markdown",
      "metadata": {
        "id": "hJRRo4mX_v4r"
      },
      "source": [
        "## Импорт и данные"
      ]
    },
    {
      "cell_type": "code",
      "execution_count": 1,
      "metadata": {
        "id": "dNRJ_0uu5pmJ"
      },
      "outputs": [],
      "source": [
        "from scipy.optimize import minimize\n",
        "import matplotlib.pyplot as plt\n",
        "import numpy as np\n",
        "from tabulate import tabulate"
      ]
    },
    {
      "cell_type": "code",
      "execution_count": 2,
      "metadata": {
        "id": "NIKtTCYD5seY"
      },
      "outputs": [],
      "source": [
        "# Исходные данные\n",
        "\n",
        "y = np.array([\n",
        "35.83488772,\n",
        "34.31569308,\n",
        "34.73612749,\n",
        "34.98917113,\n",
        "32.16698793,\n",
        "32.76083066,\n",
        "31.86093498,\n",
        "31.85640117,\n",
        "28.23506211,\n",
        "27.0833359,\n",
        "26.48606139,\n",
        "23.62631449,\n",
        "23.88520323,\n",
        "21.34163892,\n",
        "20.57208069,\n",
        "15.25025042,\n",
        "14.5468144,\n",
        "12.52902806,\n",
        "8.860339343,\n",
        "4.799946002\n",
        "])\n",
        "\n",
        "x = np.arange(1, 21)"
      ]
    },
    {
      "cell_type": "markdown",
      "metadata": {
        "id": "gsVcXVzx_hfR"
      },
      "source": [
        "---"
      ]
    },
    {
      "cell_type": "markdown",
      "metadata": {
        "id": "mnPKRktH_idE"
      },
      "source": [
        "## Калибровка моделей"
      ]
    },
    {
      "cell_type": "code",
      "execution_count": 3,
      "metadata": {
        "id": "Kg5vDCLz9rqW"
      },
      "outputs": [],
      "source": [
        "def exponential(params): # задание экспоненциальной функции\n",
        "    c1, c2, c3 = params\n",
        "    sse = 0\n",
        "    for i in range(len(x)):\n",
        "        sse += (y[i] - (c1*np.exp(c2*x[i])+c3))**2\n",
        "    return sse"
      ]
    },
    {
      "cell_type": "code",
      "execution_count": null,
      "metadata": {
        "id": "MUj6lEGi6dkX"
      },
      "outputs": [],
      "source": [
        "res = minimize(exponential, np.random.randint(-1000, 1000, 3)) # минимизация функции SSE\n",
        "while res.fun > 20 and res.fun != 'nan':\n",
        "    res = minimize(exponential, np.random.randint(-1000, 1000, 3))"
      ]
    },
    {
      "cell_type": "code",
      "source": [
        "res"
      ],
      "metadata": {
        "colab": {
          "base_uri": "https://localhost:8080/"
        },
        "id": "Ya24JlKLfi0n",
        "outputId": "30cb7a53-1a2e-437e-d331-093bff3b834e"
      },
      "execution_count": 5,
      "outputs": [
        {
          "output_type": "execute_result",
          "data": {
            "text/plain": [
              "      fun: 15.196852873206991\n",
              " hess_inv: array([[2.03271882e-06, 1.79878188e-07, 3.56961677e-05],\n",
              "       [1.79878188e-07, 5.10610198e-07, 1.09686432e-04],\n",
              "       [3.56961677e-05, 1.09686432e-04, 4.82186667e-02]])\n",
              "      jac: array([6.55651093e-06, 1.62601471e-04, 1.43051147e-06])\n",
              "  message: 'Desired error not necessarily achieved due to precision loss.'\n",
              "     nfev: 703\n",
              "      nit: 107\n",
              "     njev: 173\n",
              "   status: 2\n",
              "  success: False\n",
              "        x: array([-5.10760748,  0.09796925, 41.46581155])"
            ]
          },
          "metadata": {},
          "execution_count": 5
        }
      ]
    },
    {
      "cell_type": "code",
      "execution_count": 6,
      "metadata": {
        "id": "DmjMBAO8d2SU"
      },
      "outputs": [],
      "source": [
        "f_exp = -5.10757257 * np.exp(0.09796952*x) + 41.46576603 # итоговая функция"
      ]
    },
    {
      "cell_type": "markdown",
      "metadata": {
        "id": "rkiGOC3F3-_m"
      },
      "source": [
        "---"
      ]
    },
    {
      "cell_type": "code",
      "execution_count": 7,
      "metadata": {
        "id": "y1tPlF1wd2c1"
      },
      "outputs": [],
      "source": [
        "def dif(params): # задание дифференциальной модели\n",
        "    k1, k2, c = params\n",
        "    sse = 0\n",
        "    for i in range(len(x)):\n",
        "        sse += (y[i] - (k1*(x[i]**2)/2 - k2*x[i] + c))**2\n",
        "    return sse"
      ]
    },
    {
      "cell_type": "code",
      "execution_count": 8,
      "metadata": {
        "id": "eGHuJSJ7_bMK"
      },
      "outputs": [],
      "source": [
        "init_2 = [1, 1, 1] # начальное предположение о параметрах "
      ]
    },
    {
      "cell_type": "code",
      "execution_count": 9,
      "metadata": {
        "colab": {
          "base_uri": "https://localhost:8080/"
        },
        "id": "xuGKApr9d2ez",
        "outputId": "ddbf2a9a-4704-4ec2-f57c-7a4377fa4973"
      },
      "outputs": [
        {
          "output_type": "execute_result",
          "data": {
            "text/plain": [
              "      fun: 16.59304532153098\n",
              " hess_inv: array([[1.13821696e-04, 1.19500134e-03, 4.38045355e-03],\n",
              "       [1.19500134e-03, 1.32981256e-02, 5.38834881e-02],\n",
              "       [4.38045355e-03, 5.38834881e-02, 2.76454865e-01]])\n",
              "      jac: array([0.00000000e+00, 2.38418579e-07, 2.38418579e-07])\n",
              "  message: 'Optimization terminated successfully.'\n",
              "     nfev: 40\n",
              "      nit: 8\n",
              "     njev: 10\n",
              "   status: 0\n",
              "  success: True\n",
              "        x: array([-1.48140764e-01, -1.79145357e-02,  3.52278526e+01])"
            ]
          },
          "metadata": {},
          "execution_count": 9
        }
      ],
      "source": [
        "minimize(dif, init_2)"
      ]
    },
    {
      "cell_type": "code",
      "execution_count": 10,
      "metadata": {
        "id": "3G952igNsiZb"
      },
      "outputs": [],
      "source": [
        "f_dif = -0.148140764*(x**2)/2 + 0.0179145357*x + 35.2278526"
      ]
    },
    {
      "cell_type": "markdown",
      "metadata": {
        "id": "fyGXiYGH4H_o"
      },
      "source": [
        "---"
      ]
    },
    {
      "cell_type": "code",
      "execution_count": 11,
      "metadata": {
        "id": "DeX9Lh63AvfB"
      },
      "outputs": [],
      "source": [
        "def raz(params): # задание разностной модели\n",
        "    L1, L2 = params\n",
        "    p = y[0]\n",
        "    sse = 0\n",
        "    for i in range(1, len(x)-1):\n",
        "        sse += (y[i] - (L1*p - L2))**2\n",
        "        p = L1*p - L2\n",
        "    return sse"
      ]
    },
    {
      "cell_type": "code",
      "execution_count": 12,
      "metadata": {
        "id": "D_UARGOSAvhJ"
      },
      "outputs": [],
      "source": [
        "init_3 = [1, 1]"
      ]
    },
    {
      "cell_type": "code",
      "execution_count": 13,
      "metadata": {
        "colab": {
          "base_uri": "https://localhost:8080/"
        },
        "id": "t2LLQQK_Bkny",
        "outputId": "b62a6e6c-cdc0-41f4-adf2-1f887a607534"
      },
      "outputs": [
        {
          "output_type": "execute_result",
          "data": {
            "text/plain": [
              "      fun: 14.855129776140945\n",
              " hess_inv: array([[4.48953986e-05, 1.39532804e-03],\n",
              "       [1.39532804e-03, 4.34218341e-02]])\n",
              "      jac: array([ 9.17673111e-04, -2.76565552e-05])\n",
              "  message: 'Desired error not necessarily achieved due to precision loss.'\n",
              "     nfev: 120\n",
              "      nit: 10\n",
              "     njev: 36\n",
              "   status: 2\n",
              "  success: False\n",
              "        x: array([1.09983063, 4.16954543])"
            ]
          },
          "metadata": {},
          "execution_count": 13
        }
      ],
      "source": [
        "minimize(raz, init_3)"
      ]
    },
    {
      "cell_type": "code",
      "execution_count": 14,
      "metadata": {
        "id": "Ut_Ap4AjAvjV"
      },
      "outputs": [],
      "source": [
        "f_raz = [y[0]]\n",
        "p = y[0]\n",
        "for i in range(1, len(y)):\n",
        "    f_raz.append(1.09983063 * p - 4.16954543)\n",
        "    p = 1.09983063 * p - 4.16954543"
      ]
    },
    {
      "cell_type": "markdown",
      "metadata": {
        "id": "b397WeQO4bJa"
      },
      "source": [
        "---"
      ]
    },
    {
      "cell_type": "markdown",
      "metadata": {
        "id": "YNaI5lFW_Qj6"
      },
      "source": [
        "## Построение графиков функций"
      ]
    },
    {
      "cell_type": "code",
      "execution_count": 15,
      "metadata": {
        "id": "yM0r0Dy84bg3"
      },
      "outputs": [],
      "source": [
        "y_mean = y.mean()"
      ]
    },
    {
      "cell_type": "code",
      "execution_count": 16,
      "metadata": {
        "colab": {
          "base_uri": "https://localhost:8080/",
          "height": 513
        },
        "id": "7NyNUOpAS4O3",
        "outputId": "373a3383-fac8-4072-e630-13690e0f5697"
      },
      "outputs": [
        {
          "output_type": "display_data",
          "data": {
            "text/plain": [
              "<Figure size 720x576 with 1 Axes>"
            ],
            "image/png": "[encoded data removed]"
          },
          "metadata": {
            "needs_background": "light"
          }
        }
      ],
      "source": [
        "plt.figure(figsize=(10, 8))\n",
        "plt.plot(x, y, '-o', linewidth=2, color='black', label='Исходная функция')\n",
        "plt.plot(x, f_exp, linewidth=4, color='brown', label='Экспоненциальная функция')\n",
        "plt.plot(x, f_dif, linewidth=2, color='green', label='Дифференциальная модель')\n",
        "plt.plot(x, f_raz, linewidth=2, color='orange', label='Разностная модель')\n",
        "plt.axhline(y_mean, linewidth=2, label='Среднее значение')\n",
        "plt.title('Сравнение моделей')\n",
        "plt.xlabel('x')\n",
        "plt.ylabel('y')\n",
        "plt.legend(fontsize=8)\n",
        "plt.show()"
      ]
    },
    {
      "cell_type": "markdown",
      "metadata": {
        "id": "OJXfSOUA_clq"
      },
      "source": [
        "---"
      ]
    },
    {
      "cell_type": "markdown",
      "metadata": {
        "id": "9Wj-NyAS_YYC"
      },
      "source": [
        "## Вычисление коэффициентов детерминации для моделей"
      ]
    },
    {
      "cell_type": "code",
      "execution_count": 17,
      "metadata": {
        "id": "WZI5TYhjS4TN"
      },
      "outputs": [],
      "source": [
        "# Вычисление SST\n",
        "sst = 0\n",
        "for i in range(len(x)):\n",
        "    sst += (y[i] - y_mean)**2"
      ]
    },
    {
      "cell_type": "code",
      "execution_count": 18,
      "metadata": {
        "colab": {
          "base_uri": "https://localhost:8080/"
        },
        "id": "3JwRIhUnTE-P",
        "outputId": "204128ac-a442-4bca-9b2b-216bdb3da992"
      },
      "outputs": [
        {
          "output_type": "execute_result",
          "data": {
            "text/plain": [
              "1685.04"
            ]
          },
          "metadata": {},
          "execution_count": 18
        }
      ],
      "source": [
        "round(sst, 2)"
      ]
    },
    {
      "cell_type": "code",
      "execution_count": 19,
      "metadata": {
        "colab": {
          "base_uri": "https://localhost:8080/"
        },
        "id": "Okow5RiyTdtO",
        "outputId": "07e41b64-a673-4350-d3c1-d5b39f882c98"
      },
      "outputs": [
        {
          "output_type": "execute_result",
          "data": {
            "text/plain": [
              "0.99098"
            ]
          },
          "metadata": {},
          "execution_count": 19
        }
      ],
      "source": [
        "R2_1 = 1 - 15.196852874023342 / sst\n",
        "round(R2_1, 5) "
      ]
    },
    {
      "cell_type": "code",
      "execution_count": 20,
      "metadata": {
        "colab": {
          "base_uri": "https://localhost:8080/"
        },
        "id": "ZVl3T2xxTdvg",
        "outputId": "e0c93bc9-9dcf-423a-852a-93755493c869"
      },
      "outputs": [
        {
          "output_type": "execute_result",
          "data": {
            "text/plain": [
              "0.99015"
            ]
          },
          "metadata": {},
          "execution_count": 20
        }
      ],
      "source": [
        "R2_2 = 1 - 16.59304532153098 / sst\n",
        "round(R2_2, 5)"
      ]
    },
    {
      "cell_type": "code",
      "execution_count": 21,
      "metadata": {
        "colab": {
          "base_uri": "https://localhost:8080/"
        },
        "id": "tXJAyrJaTdxV",
        "outputId": "83e61182-7675-4a4b-afd2-10a6de94d419"
      },
      "outputs": [
        {
          "output_type": "execute_result",
          "data": {
            "text/plain": [
              "0.99118"
            ]
          },
          "metadata": {},
          "execution_count": 21
        }
      ],
      "source": [
        "R2_3 = 1 - 14.855129776140945 / sst\n",
        "round(R2_3, 5)"
      ]
    },
    {
      "cell_type": "markdown",
      "metadata": {
        "id": "3P8KJV6S_d4K"
      },
      "source": [
        "---"
      ]
    },
    {
      "cell_type": "markdown",
      "metadata": {
        "id": "nRVuUMl7_LWs"
      },
      "source": [
        "## Итоги"
      ]
    },
    {
      "cell_type": "code",
      "execution_count": 24,
      "metadata": {
        "id": "UobbP14e7xbD"
      },
      "outputs": [],
      "source": [
        "table = [['Модель', 'Параметры', 'R2'],\n",
        "         ['Экспоненциальная', [-5.10757257, 0.09796952, 41.46576603], 0.99098],\n",
        "         ['Дифференциальное ур-е', [-0.148140764, -0.0179145357,  35.2278526], 0.99015],\n",
        "         ['Разностное ур-е', [1.09983063, 4.16954543], 0.99118]]"
      ]
    },
    {
      "cell_type": "code",
      "execution_count": 25,
      "metadata": {
        "colab": {
          "base_uri": "https://localhost:8080/"
        },
        "id": "xavflf8p9WyN",
        "outputId": "2c157034-303b-4bb7-ad3a-b4b4eed62594"
      },
      "outputs": [
        {
          "output_type": "stream",
          "name": "stdout",
          "text": [
            "╒═══════════════════════╤═══════════════════════════════════════════╤═════════╕\n",
            "│ Модель                │ Параметры                                 │      R2 │\n",
            "╞═══════════════════════╪═══════════════════════════════════════════╪═════════╡\n",
            "│ Экспоненциальная      │ [-5.10757257, 0.09796952, 41.46576603]    │ 0.99098 │\n",
            "├───────────────────────┼───────────────────────────────────────────┼─────────┤\n",
            "│ Дифференциальное ур-е │ [-0.148140764, -0.0179145357, 35.2278526] │ 0.99015 │\n",
            "├───────────────────────┼───────────────────────────────────────────┼─────────┤\n",
            "│ Разностное ур-е       │ [1.09983063, 4.16954543]                  │ 0.99118 │\n",
            "╘═══════════════════════╧═══════════════════════════════════════════╧═════════╛\n"
          ]
        }
      ],
      "source": [
        "print(tabulate(table, headers='firstrow', tablefmt='fancy_grid'))"
      ]
    },
    {
      "cell_type": "markdown",
      "metadata": {
        "id": "g7HfijPq204H"
      },
      "source": [
        "Все модели имеют высокий показатель детерминации."
      ]
    }
  ],
  "metadata": {
    "colab": {
      "provenance": []
    },
    "kernelspec": {
      "display_name": "Python 3 (ipykernel)",
      "language": "python",
      "name": "python3"
    },
    "language_info": {
      "codemirror_mode": {
        "name": "ipython",
        "version": 3
      },
      "file_extension": ".py",
      "mimetype": "text/x-python",
      "name": "python",
      "nbconvert_exporter": "python",
      "pygments_lexer": "ipython3",
      "version": "3.10.6"
    }
  },
  "nbformat": 4,
  "nbformat_minor": 0
}