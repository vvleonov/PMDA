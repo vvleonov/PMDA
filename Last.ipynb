{
  "cells": [
    {
      "cell_type": "markdown",
      "metadata": {
        "id": "mp8ZEoNjpXmf"
      },
      "source": [
        "## Тема:\n",
        "«Обнаружение мошеннических операций с кредитными картами»\n",
        "\n",
        "\n",
        "## Актуальность темы:\n",
        "Преступления, связанные с кредитными картами, - одна из наиболее важных и распространённых проблем в области защиты информации в финансовой сфере, с которой сталкиваются финансовые организации и их клиенты. Для предотвращения списаний средств клиентов мошенниками необходимо определять легитимность транзакций.\n",
        "\n",
        "\n",
        "## Исходные данные:\n",
        "Датасет «Credit Card Fraud Detection. Anonymized credit card transactions labeled as fraudulent or genuine» (https://www.kaggle.com/datasets/mlg-ulb/creditcardfraud). В нём содержатся уже преобразованные алгоритмом PCA данные.\n",
        "\n",
        "\n",
        "## Ход работы:\n",
        "Сначала будет проведён EDA. Алгоритмы, которые будут использованы в дальнейшем:\n",
        " - k-NN;\n",
        " - Логистическая регрессия;\n",
        " - XGBoost классификатор.\n",
        "\n",
        "Будет проанализировано качество работы алгоритмов на исходных данных и на сбалансированных данных, при этом будут рассмотрены 2 случая - с удалением и без удаления аномалий. Качество работы алгоритмов будет определено по стандартным метрикам классификации. Так же авторы набора данных предложили использовать метрику AUPRC для несбалансированных данных.\n",
        "\n",
        "---"
      ]
    },
    {
      "cell_type": "markdown",
      "metadata": {
        "id": "iC8fqt0hqN6f"
      },
      "source": [
        "## Импорт библиотек"
      ]
    },
    {
      "cell_type": "code",
      "execution_count": 3,
      "metadata": {
        "id": "sFqTQUZGPWI8"
      },
      "outputs": [],
      "source": [
        "import pandas as pd\n",
        "import numpy as np\n",
        "import matplotlib.pyplot as plt\n",
        "import seaborn as sns\n",
        "from tabulate import tabulate\n",
        "\n",
        "from sklearn.preprocessing import StandardScaler\n",
        "from sklearn.model_selection import train_test_split\n",
        "from sklearn.neighbors import KNeighborsClassifier\n",
        "from sklearn.linear_model import LogisticRegression\n",
        "from xgboost import XGBClassifier\n",
        "from sklearn.metrics import PrecisionRecallDisplay\n",
        "from sklearn.metrics import classification_report\n",
        "\n",
        "import warnings\n",
        "warnings.filterwarnings('ignore')"
      ]
    },
    {
      "cell_type": "code",
      "execution_count": 4,
      "metadata": {
        "id": "lw7zXbKAQ69q"
      },
      "outputs": [],
      "source": [
        "data = pd.read_csv('./creditcard.csv') # загрузка данных о транзакциях"
      ]
    },
    {
      "cell_type": "markdown",
      "metadata": {
        "id": "s_WPKllP7x77"
      },
      "source": [
        "---"
      ]
    },
    {
      "cell_type": "markdown",
      "metadata": {
        "id": "097vq6q3pKMn"
      },
      "source": [
        "## Разведочный анализ данных"
      ]
    },
    {
      "cell_type": "code",
      "execution_count": 5,
      "metadata": {
        "colab": {
          "base_uri": "https://localhost:8080/"
        },
        "id": "bu6uBPw9pI__",
        "outputId": "2cf5e175-1298-441e-f336-2babd9f4783f"
      },
      "outputs": [
        {
          "output_type": "execute_result",
          "data": {
            "text/plain": [
              "(284807, 31)"
            ]
          },
          "metadata": {},
          "execution_count": 5
        }
      ],
      "source": [
        "data.shape # форма данных"
      ]
    },
    {
      "cell_type": "code",
      "execution_count": 6,
      "metadata": {
        "colab": {
          "base_uri": "https://localhost:8080/",
          "height": 299
        },
        "id": "r8Hy6cObGCkr",
        "outputId": "4060b36f-aabb-41e0-b4b5-ed10880eec9e"
      },
      "outputs": [
        {
          "output_type": "execute_result",
          "data": {
            "text/plain": [
              "   Time        V1        V2        V3        V4        V5        V6        V7  \\\n",
              "0   0.0 -1.359807 -0.072781  2.536347  1.378155 -0.338321  0.462388  0.239599   \n",
              "1   0.0  1.191857  0.266151  0.166480  0.448154  0.060018 -0.082361 -0.078803   \n",
              "2   1.0 -1.358354 -1.340163  1.773209  0.379780 -0.503198  1.800499  0.791461   \n",
              "3   1.0 -0.966272 -0.185226  1.792993 -0.863291 -0.010309  1.247203  0.237609   \n",
              "4   2.0 -1.158233  0.877737  1.548718  0.403034 -0.407193  0.095921  0.592941   \n",
              "\n",
              "         V8        V9  ...       V21       V22       V23       V24       V25  \\\n",
              "0  0.098698  0.363787  ... -0.018307  0.277838 -0.110474  0.066928  0.128539   \n",
              "1  0.085102 -0.255425  ... -0.225775 -0.638672  0.101288 -0.339846  0.167170   \n",
              "2  0.247676 -1.514654  ...  0.247998  0.771679  0.909412 -0.689281 -0.327642   \n",
              "3  0.377436 -1.387024  ... -0.108300  0.005274 -0.190321 -1.175575  0.647376   \n",
              "4 -0.270533  0.817739  ... -0.009431  0.798278 -0.137458  0.141267 -0.206010   \n",
              "\n",
              "        V26       V27       V28  Amount  Class  \n",
              "0 -0.189115  0.133558 -0.021053  149.62      0  \n",
              "1  0.125895 -0.008983  0.014724    2.69      0  \n",
              "2 -0.139097 -0.055353 -0.059752  378.66      0  \n",
              "3 -0.221929  0.062723  0.061458  123.50      0  \n",
              "4  0.502292  0.219422  0.215153   69.99      0  \n",
              "\n",
              "[5 rows x 31 columns]"
            ],
            "text/html": [
              "\n",
              "  <div id=\"df-2a964e1a-10dd-4ddb-b142-51c1c3860d55\">\n",
              "    <div class=\"colab-df-container\">\n",
              "      <div>\n",
              "<style scoped>\n",
              "    .dataframe tbody tr th:only-of-type {\n",
              "        vertical-align: middle;\n",
              "    }\n",
              "\n",
              "    .dataframe tbody tr th {\n",
              "        vertical-align: top;\n",
              "    }\n",
              "\n",
              "    .dataframe thead th {\n",
              "        text-align: right;\n",
              "    }\n",
              "</style>\n",
              "<table border=\"1\" class=\"dataframe\">\n",
              "  <thead>\n",
              "    <tr style=\"text-align: right;\">\n",
              "      <th></th>\n",
              "      <th>Time</th>\n",
              "      <th>V1</th>\n",
              "      <th>V2</th>\n",
              "      <th>V3</th>\n",
              "      <th>V4</th>\n",
              "      <th>V5</th>\n",
              "      <th>V6</th>\n",
              "      <th>V7</th>\n",
              "      <th>V8</th>\n",
              "      <th>V9</th>\n",
              "      <th>...</th>\n",
              "      <th>V21</th>\n",
              "      <th>V22</th>\n",
              "      <th>V23</th>\n",
              "      <th>V24</th>\n",
              "      <th>V25</th>\n",
              "      <th>V26</th>\n",
              "      <th>V27</th>\n",
              "      <th>V28</th>\n",
              "      <th>Amount</th>\n",
              "      <th>Class</th>\n",
              "    </tr>\n",
              "  </thead>\n",
              "  <tbody>\n",
              "    <tr>\n",
              "      <th>0</th>\n",
              "      <td>0.0</td>\n",
              "      <td>-1.359807</td>\n",
              "      <td>-0.072781</td>\n",
              "      <td>2.536347</td>\n",
              "      <td>1.378155</td>\n",
              "      <td>-0.338321</td>\n",
              "      <td>0.462388</td>\n",
              "      <td>0.239599</td>\n",
              "      <td>0.098698</td>\n",
              "      <td>0.363787</td>\n",
              "      <td>...</td>\n",
              "      <td>-0.018307</td>\n",
              "      <td>0.277838</td>\n",
              "      <td>-0.110474</td>\n",
              "      <td>0.066928</td>\n",
              "      <td>0.128539</td>\n",
              "      <td>-0.189115</td>\n",
              "      <td>0.133558</td>\n",
              "      <td>-0.021053</td>\n",
              "      <td>149.62</td>\n",
              "      <td>0</td>\n",
              "    </tr>\n",
              "    <tr>\n",
              "      <th>1</th>\n",
              "      <td>0.0</td>\n",
              "      <td>1.191857</td>\n",
              "      <td>0.266151</td>\n",
              "      <td>0.166480</td>\n",
              "      <td>0.448154</td>\n",
              "      <td>0.060018</td>\n",
              "      <td>-0.082361</td>\n",
              "      <td>-0.078803</td>\n",
              "      <td>0.085102</td>\n",
              "      <td>-0.255425</td>\n",
              "      <td>...</td>\n",
              "      <td>-0.225775</td>\n",
              "      <td>-0.638672</td>\n",
              "      <td>0.101288</td>\n",
              "      <td>-0.339846</td>\n",
              "      <td>0.167170</td>\n",
              "      <td>0.125895</td>\n",
              "      <td>-0.008983</td>\n",
              "      <td>0.014724</td>\n",
              "      <td>2.69</td>\n",
              "      <td>0</td>\n",
              "    </tr>\n",
              "    <tr>\n",
              "      <th>2</th>\n",
              "      <td>1.0</td>\n",
              "      <td>-1.358354</td>\n",
              "      <td>-1.340163</td>\n",
              "      <td>1.773209</td>\n",
              "      <td>0.379780</td>\n",
              "      <td>-0.503198</td>\n",
              "      <td>1.800499</td>\n",
              "      <td>0.791461</td>\n",
              "      <td>0.247676</td>\n",
              "      <td>-1.514654</td>\n",
              "      <td>...</td>\n",
              "      <td>0.247998</td>\n",
              "      <td>0.771679</td>\n",
              "      <td>0.909412</td>\n",
              "      <td>-0.689281</td>\n",
              "      <td>-0.327642</td>\n",
              "      <td>-0.139097</td>\n",
              "      <td>-0.055353</td>\n",
              "      <td>-0.059752</td>\n",
              "      <td>378.66</td>\n",
              "      <td>0</td>\n",
              "    </tr>\n",
              "    <tr>\n",
              "      <th>3</th>\n",
              "      <td>1.0</td>\n",
              "      <td>-0.966272</td>\n",
              "      <td>-0.185226</td>\n",
              "      <td>1.792993</td>\n",
              "      <td>-0.863291</td>\n",
              "      <td>-0.010309</td>\n",
              "      <td>1.247203</td>\n",
              "      <td>0.237609</td>\n",
              "      <td>0.377436</td>\n",
              "      <td>-1.387024</td>\n",
              "      <td>...</td>\n",
              "      <td>-0.108300</td>\n",
              "      <td>0.005274</td>\n",
              "      <td>-0.190321</td>\n",
              "      <td>-1.175575</td>\n",
              "      <td>0.647376</td>\n",
              "      <td>-0.221929</td>\n",
              "      <td>0.062723</td>\n",
              "      <td>0.061458</td>\n",
              "      <td>123.50</td>\n",
              "      <td>0</td>\n",
              "    </tr>\n",
              "    <tr>\n",
              "      <th>4</th>\n",
              "      <td>2.0</td>\n",
              "      <td>-1.158233</td>\n",
              "      <td>0.877737</td>\n",
              "      <td>1.548718</td>\n",
              "      <td>0.403034</td>\n",
              "      <td>-0.407193</td>\n",
              "      <td>0.095921</td>\n",
              "      <td>0.592941</td>\n",
              "      <td>-0.270533</td>\n",
              "      <td>0.817739</td>\n",
              "      <td>...</td>\n",
              "      <td>-0.009431</td>\n",
              "      <td>0.798278</td>\n",
              "      <td>-0.137458</td>\n",
              "      <td>0.141267</td>\n",
              "      <td>-0.206010</td>\n",
              "      <td>0.502292</td>\n",
              "      <td>0.219422</td>\n",
              "      <td>0.215153</td>\n",
              "      <td>69.99</td>\n",
              "      <td>0</td>\n",
              "    </tr>\n",
              "  </tbody>\n",
              "</table>\n",
              "<p>5 rows × 31 columns</p>\n",
              "</div>\n",
              "      <button class=\"colab-df-convert\" onclick=\"convertToInteractive('df-2a964e1a-10dd-4ddb-b142-51c1c3860d55')\"\n",
              "              title=\"Convert this dataframe to an interactive table.\"\n",
              "              style=\"display:none;\">\n",
              "        \n",
              "  <svg xmlns=\"http://www.w3.org/2000/svg\" height=\"24px\"viewBox=\"0 0 24 24\"\n",
              "       width=\"24px\">\n",
              "    <path d=\"M0 0h24v24H0V0z\" fill=\"none\"/>\n",
              "    <path d=\"M18.56 5.44l.94 2.06.94-2.06 2.06-.94-2.06-.94-.94-2.06-.94 2.06-2.06.94zm-11 1L8.5 8.5l.94-2.06 2.06-.94-2.06-.94L8.5 2.5l-.94 2.06-2.06.94zm10 10l.94 2.06.94-2.06 2.06-.94-2.06-.94-.94-2.06-.94 2.06-2.06.94z\"/><path d=\"M17.41 7.96l-1.37-1.37c-.4-.4-.92-.59-1.43-.59-.52 0-1.04.2-1.43.59L10.3 9.45l-7.72 7.72c-.78.78-.78 2.05 0 2.83L4 21.41c.39.39.9.59 1.41.59.51 0 1.02-.2 1.41-.59l7.78-7.78 2.81-2.81c.8-.78.8-2.07 0-2.86zM5.41 20L4 18.59l7.72-7.72 1.47 1.35L5.41 20z\"/>\n",
              "  </svg>\n",
              "      </button>\n",
              "      \n",
              "  <style>\n",
              "    .colab-df-container {\n",
              "      display:flex;\n",
              "      flex-wrap:wrap;\n",
              "      gap: 12px;\n",
              "    }\n",
              "\n",
              "    .colab-df-convert {\n",
              "      background-color: #E8F0FE;\n",
              "      border: none;\n",
              "      border-radius: 50%;\n",
              "      cursor: pointer;\n",
              "      display: none;\n",
              "      fill: #1967D2;\n",
              "      height: 32px;\n",
              "      padding: 0 0 0 0;\n",
              "      width: 32px;\n",
              "    }\n",
              "\n",
              "    .colab-df-convert:hover {\n",
              "      background-color: #E2EBFA;\n",
              "      box-shadow: 0px 1px 2px rgba(60, 64, 67, 0.3), 0px 1px 3px 1px rgba(60, 64, 67, 0.15);\n",
              "      fill: #174EA6;\n",
              "    }\n",
              "\n",
              "    [theme=dark] .colab-df-convert {\n",
              "      background-color: #3B4455;\n",
              "      fill: #D2E3FC;\n",
              "    }\n",
              "\n",
              "    [theme=dark] .colab-df-convert:hover {\n",
              "      background-color: #434B5C;\n",
              "      box-shadow: 0px 1px 3px 1px rgba(0, 0, 0, 0.15);\n",
              "      filter: drop-shadow(0px 1px 2px rgba(0, 0, 0, 0.3));\n",
              "      fill: #FFFFFF;\n",
              "    }\n",
              "  </style>\n",
              "\n",
              "      <script>\n",
              "        const buttonEl =\n",
              "          document.querySelector('#df-2a964e1a-10dd-4ddb-b142-51c1c3860d55 button.colab-df-convert');\n",
              "        buttonEl.style.display =\n",
              "          google.colab.kernel.accessAllowed ? 'block' : 'none';\n",
              "\n",
              "        async function convertToInteractive(key) {\n",
              "          const element = document.querySelector('#df-2a964e1a-10dd-4ddb-b142-51c1c3860d55');\n",
              "          const dataTable =\n",
              "            await google.colab.kernel.invokeFunction('convertToInteractive',\n",
              "                                                     [key], {});\n",
              "          if (!dataTable) return;\n",
              "\n",
              "          const docLinkHtml = 'Like what you see? Visit the ' +\n",
              "            '<a target=\"_blank\" href=https://colab.research.google.com/notebooks/data_table.ipynb>data table notebook</a>'\n",
              "            + ' to learn more about interactive tables.';\n",
              "          element.innerHTML = '';\n",
              "          dataTable['output_type'] = 'display_data';\n",
              "          await google.colab.output.renderOutput(dataTable, element);\n",
              "          const docLink = document.createElement('div');\n",
              "          docLink.innerHTML = docLinkHtml;\n",
              "          element.appendChild(docLink);\n",
              "        }\n",
              "      </script>\n",
              "    </div>\n",
              "  </div>\n",
              "  "
            ]
          },
          "metadata": {},
          "execution_count": 6
        }
      ],
      "source": [
        "data.head() # первые 5 транзакций"
      ]
    },
    {
      "cell_type": "code",
      "execution_count": 7,
      "metadata": {
        "colab": {
          "base_uri": "https://localhost:8080/"
        },
        "id": "uyLaMIocLH8j",
        "outputId": "11a0cf99-68ab-400c-a2c7-83b6601d1b2c"
      },
      "outputs": [
        {
          "output_type": "execute_result",
          "data": {
            "text/plain": [
              "0"
            ]
          },
          "metadata": {},
          "execution_count": 7
        }
      ],
      "source": [
        "data.isna().sum().max() # проверка на недостающие данные"
      ]
    },
    {
      "cell_type": "markdown",
      "metadata": {
        "id": "DmlsFVG9LQPw"
      },
      "source": [
        "Недостающих данных нет."
      ]
    },
    {
      "cell_type": "code",
      "execution_count": 8,
      "metadata": {
        "colab": {
          "base_uri": "https://localhost:8080/"
        },
        "id": "flWivR-1LL-C",
        "outputId": "720d1e94-ac45-44cf-a8ca-2fd183d4c171"
      },
      "outputs": [
        {
          "output_type": "execute_result",
          "data": {
            "text/plain": [
              "0    0.998273\n",
              "1    0.001727\n",
              "Name: Class, dtype: float64"
            ]
          },
          "metadata": {},
          "execution_count": 8
        }
      ],
      "source": [
        "data['Class'].value_counts(normalize=True) # подсчёт элементов разных классов"
      ]
    },
    {
      "cell_type": "markdown",
      "metadata": {
        "id": "p2q4bdGAqYtA"
      },
      "source": [
        "Как видно, наблюдается сильная ассиметрия количества представителей разных классов. Мошеннических транзакций в датасете гораздо меньше."
      ]
    },
    {
      "cell_type": "code",
      "execution_count": 9,
      "metadata": {
        "colab": {
          "base_uri": "https://localhost:8080/",
          "height": 299
        },
        "id": "BDF6j_5b2UZ9",
        "outputId": "d9b5e57f-081d-41a2-b73b-f8975e9a6817"
      },
      "outputs": [
        {
          "output_type": "execute_result",
          "data": {
            "text/plain": [
              "       Time        V1        V2        V3        V4        V5        V6  \\\n",
              "0 -1.996583 -1.359807 -0.072781  2.536347  1.378155 -0.338321  0.462388   \n",
              "1 -1.996583  1.191857  0.266151  0.166480  0.448154  0.060018 -0.082361   \n",
              "2 -1.996562 -1.358354 -1.340163  1.773209  0.379780 -0.503198  1.800499   \n",
              "3 -1.996562 -0.966272 -0.185226  1.792993 -0.863291 -0.010309  1.247203   \n",
              "4 -1.996541 -1.158233  0.877737  1.548718  0.403034 -0.407193  0.095921   \n",
              "\n",
              "         V7        V8        V9  ...       V21       V22       V23       V24  \\\n",
              "0  0.239599  0.098698  0.363787  ... -0.018307  0.277838 -0.110474  0.066928   \n",
              "1 -0.078803  0.085102 -0.255425  ... -0.225775 -0.638672  0.101288 -0.339846   \n",
              "2  0.791461  0.247676 -1.514654  ...  0.247998  0.771679  0.909412 -0.689281   \n",
              "3  0.237609  0.377436 -1.387024  ... -0.108300  0.005274 -0.190321 -1.175575   \n",
              "4  0.592941 -0.270533  0.817739  ... -0.009431  0.798278 -0.137458  0.141267   \n",
              "\n",
              "        V25       V26       V27       V28    Amount  Class  \n",
              "0  0.128539 -0.189115  0.133558 -0.021053  0.244964      0  \n",
              "1  0.167170  0.125895 -0.008983  0.014724 -0.342475      0  \n",
              "2 -0.327642 -0.139097 -0.055353 -0.059752  1.160686      0  \n",
              "3  0.647376 -0.221929  0.062723  0.061458  0.140534      0  \n",
              "4 -0.206010  0.502292  0.219422  0.215153 -0.073403      0  \n",
              "\n",
              "[5 rows x 31 columns]"
            ],
            "text/html": [
              "\n",
              "  <div id=\"df-3e773902-0214-4b76-bafa-12c9d5511a3a\">\n",
              "    <div class=\"colab-df-container\">\n",
              "      <div>\n",
              "<style scoped>\n",
              "    .dataframe tbody tr th:only-of-type {\n",
              "        vertical-align: middle;\n",
              "    }\n",
              "\n",
              "    .dataframe tbody tr th {\n",
              "        vertical-align: top;\n",
              "    }\n",
              "\n",
              "    .dataframe thead th {\n",
              "        text-align: right;\n",
              "    }\n",
              "</style>\n",
              "<table border=\"1\" class=\"dataframe\">\n",
              "  <thead>\n",
              "    <tr style=\"text-align: right;\">\n",
              "      <th></th>\n",
              "      <th>Time</th>\n",
              "      <th>V1</th>\n",
              "      <th>V2</th>\n",
              "      <th>V3</th>\n",
              "      <th>V4</th>\n",
              "      <th>V5</th>\n",
              "      <th>V6</th>\n",
              "      <th>V7</th>\n",
              "      <th>V8</th>\n",
              "      <th>V9</th>\n",
              "      <th>...</th>\n",
              "      <th>V21</th>\n",
              "      <th>V22</th>\n",
              "      <th>V23</th>\n",
              "      <th>V24</th>\n",
              "      <th>V25</th>\n",
              "      <th>V26</th>\n",
              "      <th>V27</th>\n",
              "      <th>V28</th>\n",
              "      <th>Amount</th>\n",
              "      <th>Class</th>\n",
              "    </tr>\n",
              "  </thead>\n",
              "  <tbody>\n",
              "    <tr>\n",
              "      <th>0</th>\n",
              "      <td>-1.996583</td>\n",
              "      <td>-1.359807</td>\n",
              "      <td>-0.072781</td>\n",
              "      <td>2.536347</td>\n",
              "      <td>1.378155</td>\n",
              "      <td>-0.338321</td>\n",
              "      <td>0.462388</td>\n",
              "      <td>0.239599</td>\n",
              "      <td>0.098698</td>\n",
              "      <td>0.363787</td>\n",
              "      <td>...</td>\n",
              "      <td>-0.018307</td>\n",
              "      <td>0.277838</td>\n",
              "      <td>-0.110474</td>\n",
              "      <td>0.066928</td>\n",
              "      <td>0.128539</td>\n",
              "      <td>-0.189115</td>\n",
              "      <td>0.133558</td>\n",
              "      <td>-0.021053</td>\n",
              "      <td>0.244964</td>\n",
              "      <td>0</td>\n",
              "    </tr>\n",
              "    <tr>\n",
              "      <th>1</th>\n",
              "      <td>-1.996583</td>\n",
              "      <td>1.191857</td>\n",
              "      <td>0.266151</td>\n",
              "      <td>0.166480</td>\n",
              "      <td>0.448154</td>\n",
              "      <td>0.060018</td>\n",
              "      <td>-0.082361</td>\n",
              "      <td>-0.078803</td>\n",
              "      <td>0.085102</td>\n",
              "      <td>-0.255425</td>\n",
              "      <td>...</td>\n",
              "      <td>-0.225775</td>\n",
              "      <td>-0.638672</td>\n",
              "      <td>0.101288</td>\n",
              "      <td>-0.339846</td>\n",
              "      <td>0.167170</td>\n",
              "      <td>0.125895</td>\n",
              "      <td>-0.008983</td>\n",
              "      <td>0.014724</td>\n",
              "      <td>-0.342475</td>\n",
              "      <td>0</td>\n",
              "    </tr>\n",
              "    <tr>\n",
              "      <th>2</th>\n",
              "      <td>-1.996562</td>\n",
              "      <td>-1.358354</td>\n",
              "      <td>-1.340163</td>\n",
              "      <td>1.773209</td>\n",
              "      <td>0.379780</td>\n",
              "      <td>-0.503198</td>\n",
              "      <td>1.800499</td>\n",
              "      <td>0.791461</td>\n",
              "      <td>0.247676</td>\n",
              "      <td>-1.514654</td>\n",
              "      <td>...</td>\n",
              "      <td>0.247998</td>\n",
              "      <td>0.771679</td>\n",
              "      <td>0.909412</td>\n",
              "      <td>-0.689281</td>\n",
              "      <td>-0.327642</td>\n",
              "      <td>-0.139097</td>\n",
              "      <td>-0.055353</td>\n",
              "      <td>-0.059752</td>\n",
              "      <td>1.160686</td>\n",
              "      <td>0</td>\n",
              "    </tr>\n",
              "    <tr>\n",
              "      <th>3</th>\n",
              "      <td>-1.996562</td>\n",
              "      <td>-0.966272</td>\n",
              "      <td>-0.185226</td>\n",
              "      <td>1.792993</td>\n",
              "      <td>-0.863291</td>\n",
              "      <td>-0.010309</td>\n",
              "      <td>1.247203</td>\n",
              "      <td>0.237609</td>\n",
              "      <td>0.377436</td>\n",
              "      <td>-1.387024</td>\n",
              "      <td>...</td>\n",
              "      <td>-0.108300</td>\n",
              "      <td>0.005274</td>\n",
              "      <td>-0.190321</td>\n",
              "      <td>-1.175575</td>\n",
              "      <td>0.647376</td>\n",
              "      <td>-0.221929</td>\n",
              "      <td>0.062723</td>\n",
              "      <td>0.061458</td>\n",
              "      <td>0.140534</td>\n",
              "      <td>0</td>\n",
              "    </tr>\n",
              "    <tr>\n",
              "      <th>4</th>\n",
              "      <td>-1.996541</td>\n",
              "      <td>-1.158233</td>\n",
              "      <td>0.877737</td>\n",
              "      <td>1.548718</td>\n",
              "      <td>0.403034</td>\n",
              "      <td>-0.407193</td>\n",
              "      <td>0.095921</td>\n",
              "      <td>0.592941</td>\n",
              "      <td>-0.270533</td>\n",
              "      <td>0.817739</td>\n",
              "      <td>...</td>\n",
              "      <td>-0.009431</td>\n",
              "      <td>0.798278</td>\n",
              "      <td>-0.137458</td>\n",
              "      <td>0.141267</td>\n",
              "      <td>-0.206010</td>\n",
              "      <td>0.502292</td>\n",
              "      <td>0.219422</td>\n",
              "      <td>0.215153</td>\n",
              "      <td>-0.073403</td>\n",
              "      <td>0</td>\n",
              "    </tr>\n",
              "  </tbody>\n",
              "</table>\n",
              "<p>5 rows × 31 columns</p>\n",
              "</div>\n",
              "      <button class=\"colab-df-convert\" onclick=\"convertToInteractive('df-3e773902-0214-4b76-bafa-12c9d5511a3a')\"\n",
              "              title=\"Convert this dataframe to an interactive table.\"\n",
              "              style=\"display:none;\">\n",
              "        \n",
              "  <svg xmlns=\"http://www.w3.org/2000/svg\" height=\"24px\"viewBox=\"0 0 24 24\"\n",
              "       width=\"24px\">\n",
              "    <path d=\"M0 0h24v24H0V0z\" fill=\"none\"/>\n",
              "    <path d=\"M18.56 5.44l.94 2.06.94-2.06 2.06-.94-2.06-.94-.94-2.06-.94 2.06-2.06.94zm-11 1L8.5 8.5l.94-2.06 2.06-.94-2.06-.94L8.5 2.5l-.94 2.06-2.06.94zm10 10l.94 2.06.94-2.06 2.06-.94-2.06-.94-.94-2.06-.94 2.06-2.06.94z\"/><path d=\"M17.41 7.96l-1.37-1.37c-.4-.4-.92-.59-1.43-.59-.52 0-1.04.2-1.43.59L10.3 9.45l-7.72 7.72c-.78.78-.78 2.05 0 2.83L4 21.41c.39.39.9.59 1.41.59.51 0 1.02-.2 1.41-.59l7.78-7.78 2.81-2.81c.8-.78.8-2.07 0-2.86zM5.41 20L4 18.59l7.72-7.72 1.47 1.35L5.41 20z\"/>\n",
              "  </svg>\n",
              "      </button>\n",
              "      \n",
              "  <style>\n",
              "    .colab-df-container {\n",
              "      display:flex;\n",
              "      flex-wrap:wrap;\n",
              "      gap: 12px;\n",
              "    }\n",
              "\n",
              "    .colab-df-convert {\n",
              "      background-color: #E8F0FE;\n",
              "      border: none;\n",
              "      border-radius: 50%;\n",
              "      cursor: pointer;\n",
              "      display: none;\n",
              "      fill: #1967D2;\n",
              "      height: 32px;\n",
              "      padding: 0 0 0 0;\n",
              "      width: 32px;\n",
              "    }\n",
              "\n",
              "    .colab-df-convert:hover {\n",
              "      background-color: #E2EBFA;\n",
              "      box-shadow: 0px 1px 2px rgba(60, 64, 67, 0.3), 0px 1px 3px 1px rgba(60, 64, 67, 0.15);\n",
              "      fill: #174EA6;\n",
              "    }\n",
              "\n",
              "    [theme=dark] .colab-df-convert {\n",
              "      background-color: #3B4455;\n",
              "      fill: #D2E3FC;\n",
              "    }\n",
              "\n",
              "    [theme=dark] .colab-df-convert:hover {\n",
              "      background-color: #434B5C;\n",
              "      box-shadow: 0px 1px 3px 1px rgba(0, 0, 0, 0.15);\n",
              "      filter: drop-shadow(0px 1px 2px rgba(0, 0, 0, 0.3));\n",
              "      fill: #FFFFFF;\n",
              "    }\n",
              "  </style>\n",
              "\n",
              "      <script>\n",
              "        const buttonEl =\n",
              "          document.querySelector('#df-3e773902-0214-4b76-bafa-12c9d5511a3a button.colab-df-convert');\n",
              "        buttonEl.style.display =\n",
              "          google.colab.kernel.accessAllowed ? 'block' : 'none';\n",
              "\n",
              "        async function convertToInteractive(key) {\n",
              "          const element = document.querySelector('#df-3e773902-0214-4b76-bafa-12c9d5511a3a');\n",
              "          const dataTable =\n",
              "            await google.colab.kernel.invokeFunction('convertToInteractive',\n",
              "                                                     [key], {});\n",
              "          if (!dataTable) return;\n",
              "\n",
              "          const docLinkHtml = 'Like what you see? Visit the ' +\n",
              "            '<a target=\"_blank\" href=https://colab.research.google.com/notebooks/data_table.ipynb>data table notebook</a>'\n",
              "            + ' to learn more about interactive tables.';\n",
              "          element.innerHTML = '';\n",
              "          dataTable['output_type'] = 'display_data';\n",
              "          await google.colab.output.renderOutput(dataTable, element);\n",
              "          const docLink = document.createElement('div');\n",
              "          docLink.innerHTML = docLinkHtml;\n",
              "          element.appendChild(docLink);\n",
              "        }\n",
              "      </script>\n",
              "    </div>\n",
              "  </div>\n",
              "  "
            ]
          },
          "metadata": {},
          "execution_count": 9
        }
      ],
      "source": [
        "# масштабируем признаки Amount и Time\n",
        "scaler = StandardScaler()\n",
        "data['Amount'] = scaler.fit_transform(data.Amount.values.reshape(-1, 1))\n",
        "data['Time'] = scaler.fit_transform(data.Time.values.reshape(-1, 1))\n",
        "data.head()"
      ]
    },
    {
      "cell_type": "markdown",
      "metadata": {
        "id": "xMWsbtSyrOge"
      },
      "source": [
        "Признаки Time и Amount нужно отмасштабировать. Особенно это важно для алгоритма k-NN, так как в нем испльзуется метрика расстояния между объектами."
      ]
    },
    {
      "cell_type": "code",
      "execution_count": 10,
      "metadata": {
        "id": "4iiPYNM0XNzo"
      },
      "outputs": [],
      "source": [
        "X, y = data.drop(['Class'], axis=1), data[['Class']] # отделяем признаки от отклика"
      ]
    },
    {
      "cell_type": "code",
      "execution_count": 11,
      "metadata": {
        "colab": {
          "base_uri": "https://localhost:8080/",
          "height": 513
        },
        "id": "pjLDpVG5LrjQ",
        "outputId": "b4c4db67-1232-4104-cf9a-423e68c83711"
      },
      "outputs": [
        {
          "output_type": "display_data",
          "data": {
            "text/plain": [
              "<Figure size 864x576 with 1 Axes>"
            ],
            "image/png": "[encoded data removed]"
          },
          "metadata": {
            "needs_background": "light"
          }
        }
      ],
      "source": [
        "# столбчатая диаграмма количества объектов по классам в исходном наборе данных\n",
        "plt.figure(figsize=(12, 8))\n",
        "sns.countplot('Class', data=y, palette=['blue', 'red'])\n",
        "plt.title('Количество валидных и мошеннических транзакций')\n",
        "plt.show()"
      ]
    },
    {
      "cell_type": "code",
      "execution_count": 12,
      "metadata": {
        "colab": {
          "base_uri": "https://localhost:8080/",
          "height": 934
        },
        "id": "JoM0yorlNibw",
        "outputId": "6d5b3b95-c23a-4692-bc12-8b97621d581e"
      },
      "outputs": [
        {
          "output_type": "display_data",
          "data": {
            "text/plain": [
              "<Figure size 1152x1152 with 30 Axes>"
            ],
            "image/png": "[encoded data removed]"
          },
          "metadata": {
            "needs_background": "light"
          }
        }
      ],
      "source": [
        "# графики гистограмм распределений всех признаков\n",
        "fig = plt.figure(figsize=(16, 16))\n",
        "ax = fig.gca()\n",
        "X.hist(ax=ax)\n",
        "plt.show()"
      ]
    },
    {
      "cell_type": "code",
      "execution_count": 13,
      "metadata": {
        "colab": {
          "base_uri": "https://localhost:8080/",
          "height": 932
        },
        "id": "xSM-dreaNifa",
        "outputId": "f0ed5b81-e8ae-4cd3-8f5a-e0b5a6c23ae2"
      },
      "outputs": [
        {
          "output_type": "display_data",
          "data": {
            "text/plain": [
              "<Figure size 1152x1152 with 30 Axes>"
            ],
            "image/png": "[encoded data removed]"
          },
          "metadata": {
            "needs_background": "light"
          }
        }
      ],
      "source": [
        "# ящики с усами для всех признаков\n",
        "fig, ax = plt.subplots(5, 6)\n",
        "fig.set_figheight(16)\n",
        "fig.set_figwidth(16)\n",
        "col = 0\n",
        "for i in range(5):\n",
        "    for j in range(6):\n",
        "        sns.boxplot(x=X.columns[col], data=X, ax=ax[i, j])\n",
        "        col += 1"
      ]
    },
    {
      "cell_type": "markdown",
      "metadata": {
        "id": "ZiwvJVrEtChJ"
      },
      "source": [
        "Как видно по ящикам с усами, в данных находится множество выбросов. Далее избавимся от них."
      ]
    },
    {
      "cell_type": "code",
      "execution_count": 14,
      "metadata": {
        "id": "MEsk_KVO2Lun"
      },
      "outputs": [],
      "source": [
        "# функция для удаления выбросов\n",
        "def remove_outliers(df):\n",
        "    for col in df.columns:\n",
        "        if (((df[col].dtype)=='float64') | ((df[col].dtype)=='int64')):\n",
        "            percentiles = df[col].quantile([0.25,0.75]).values\n",
        "            IQR = percentiles[1] - percentiles[0]\n",
        "            upper_limit = percentiles[1] + IQR*1.5\n",
        "            lower_limit = percentiles[0] - IQR*1.5\n",
        "            df[col][df[col] <= lower_limit] = percentiles[0]\n",
        "            df[col][df[col] >= upper_limit] = percentiles[1]\n",
        "        else:\n",
        "            df[col]=df[col]"
      ]
    },
    {
      "cell_type": "code",
      "execution_count": 15,
      "metadata": {
        "id": "gHSekpfq8dA3"
      },
      "outputs": [],
      "source": [
        "# убираем все выбросы за 2 итерации\n",
        "for i in range(2):\n",
        "    remove_outliers(X)"
      ]
    },
    {
      "cell_type": "code",
      "execution_count": 16,
      "metadata": {
        "colab": {
          "base_uri": "https://localhost:8080/",
          "height": 934
        },
        "id": "c2ojBpIFfybW",
        "outputId": "7d421228-596b-4939-c7c2-0691de19c689"
      },
      "outputs": [
        {
          "output_type": "display_data",
          "data": {
            "text/plain": [
              "<Figure size 1152x1152 with 30 Axes>"
            ],
            "image/png": "[encoded data removed]"
          },
          "metadata": {
            "needs_background": "light"
          }
        }
      ],
      "source": [
        "# графики гистограмм распределений всех признаков после удаления выбросов\n",
        "fig = plt.figure(figsize=(16, 16))\n",
        "ax = fig.gca()\n",
        "X.hist(ax=ax)\n",
        "plt.show()"
      ]
    },
    {
      "cell_type": "code",
      "execution_count": 17,
      "metadata": {
        "colab": {
          "base_uri": "https://localhost:8080/",
          "height": 932
        },
        "id": "PvC-13wkYFNo",
        "outputId": "fd18ce4d-6307-422e-efec-de714b599510"
      },
      "outputs": [
        {
          "output_type": "display_data",
          "data": {
            "text/plain": [
              "<Figure size 1152x1152 with 30 Axes>"
            ],
            "image/png": "[encoded data removed]"
          },
          "metadata": {
            "needs_background": "light"
          }
        }
      ],
      "source": [
        "# ящики с усами для всех признаков после удаления выбросов\n",
        "fig, ax = plt.subplots(5, 6)\n",
        "fig.set_figheight(16)\n",
        "fig.set_figwidth(16)\n",
        "col = 0\n",
        "for i in range(5):\n",
        "    for j in range(6):\n",
        "        sns.boxplot(x=X.columns[col], data=X, ax=ax[i, j])\n",
        "        col += 1"
      ]
    },
    {
      "cell_type": "markdown",
      "metadata": {
        "id": "g7tcIJlgu9p_"
      },
      "source": [
        "На данном этапе все признаки масштабированы, а выбросы удалены. Далее посмотрим на тепловые карты корреляций Пирсона и Спирмена для признаков исходных данных (масштабированных, но с выбросами)."
      ]
    },
    {
      "cell_type": "code",
      "execution_count": 18,
      "metadata": {
        "colab": {
          "base_uri": "https://localhost:8080/",
          "height": 528
        },
        "id": "AB1qfFVOYwef",
        "outputId": "4ae2f720-4d55-4998-c25f-5b482b9c3618"
      },
      "outputs": [
        {
          "output_type": "display_data",
          "data": {
            "text/plain": [
              "<Figure size 864x576 with 2 Axes>"
            ],
            "image/png": "[encoded data removed]"
          },
          "metadata": {
            "needs_background": "light"
          }
        }
      ],
      "source": [
        "# тепловая карта корреляций Пирсона для исходных данных\n",
        "corr_i1 = data.drop(['Class'], axis=1).corr(method='pearson')\n",
        "plt.figure(figsize=(12, 8))\n",
        "plt.title('Корреляция Пирсона для исх. данных')\n",
        "sns.heatmap(corr_i1)\n",
        "plt.show()"
      ]
    },
    {
      "cell_type": "code",
      "execution_count": 19,
      "metadata": {
        "colab": {
          "base_uri": "https://localhost:8080/",
          "height": 528
        },
        "id": "Suy_T8InwBMV",
        "outputId": "9cf594da-fbe8-45d6-9f73-aa85f25432af"
      },
      "outputs": [
        {
          "output_type": "display_data",
          "data": {
            "text/plain": [
              "<Figure size 864x576 with 2 Axes>"
            ],
            "image/png": "[encoded data removed]"
          },
          "metadata": {
            "needs_background": "light"
          }
        }
      ],
      "source": [
        "# тепловая карта корреляций Спирмена для исходных данных\n",
        "corr_i2 = data.drop(['Class'], axis=1).corr(method='spearman')\n",
        "plt.figure(figsize=(12, 8))\n",
        "plt.title('Корреляция Спирмена для исх. данных')\n",
        "sns.heatmap(corr_i2)\n",
        "plt.show()"
      ]
    },
    {
      "cell_type": "markdown",
      "metadata": {
        "id": "Z5IrER8PwInm"
      },
      "source": [
        "Как видно по картам, большинство признаков, кроме Time и Amount, не имеют линейных связей (так как 28 признаков - компоненты PCA). При этом, коэффициент корреляции Спирмена показывает, что некоторые признаки связаны друг с другом."
      ]
    },
    {
      "cell_type": "markdown",
      "metadata": {
        "id": "H7yvau3r84ex"
      },
      "source": [
        "Сформируем сбалансированный набор из обработанных данных, в котором будет одинаковое количество элементов первого и второго классов."
      ]
    },
    {
      "cell_type": "code",
      "execution_count": 20,
      "metadata": {
        "id": "r6rtRzqEfuIx"
      },
      "outputs": [],
      "source": [
        "shuffled = data.sample(frac=1, random_state=0) # перемешивание данных по строкам\n",
        "fraud_idx = data[data['Class'] == 1].index # индексы мошеннических транзакций\n",
        "valid_idx = data.loc[data['Class'] == 0][:492].index # индексы валидных транзакций\n",
        "balanced_X = pd.concat([X[X.index.isin(fraud_idx)], X[X.index.isin(valid_idx)]]) # сбалансированный набор признаков\n",
        "balanced_y = pd.concat([y[y.index.isin(fraud_idx)], y[y.index.isin(valid_idx)]]) # сбалансированный набор откликов\n",
        "balanced_set = pd.concat([balanced_X, balanced_y], axis=1) # итоговый сбалансированный набор данных"
      ]
    },
    {
      "cell_type": "code",
      "execution_count": 21,
      "metadata": {
        "id": "MTDSGI3afuLY"
      },
      "outputs": [],
      "source": [
        "balanced_set = balanced_set.sample(frac=1, random_state=0) # перемешивание по строкам"
      ]
    },
    {
      "cell_type": "code",
      "execution_count": 22,
      "metadata": {
        "colab": {
          "base_uri": "https://localhost:8080/",
          "height": 513
        },
        "id": "x9e_xGjXfuOU",
        "outputId": "39d48204-a71b-43cd-fc86-022f7c820820"
      },
      "outputs": [
        {
          "output_type": "display_data",
          "data": {
            "text/plain": [
              "<Figure size 864x576 with 1 Axes>"
            ],
            "image/png": "[encoded data removed]"
          },
          "metadata": {
            "needs_background": "light"
          }
        }
      ],
      "source": [
        "# столбчатая диаграмма количества объектов по классам в сбалансированном наборе данных\n",
        "plt.figure(figsize=(12, 8))\n",
        "sns.countplot('Class', data=balanced_set, palette=['blue', 'red'])\n",
        "plt.title('Количество валидных и мошеннических транзакций в сбалансированном наборе данных')\n",
        "plt.show()"
      ]
    },
    {
      "cell_type": "markdown",
      "metadata": {
        "id": "d2Vi8L3UJQBj"
      },
      "source": [
        "---"
      ]
    },
    {
      "cell_type": "markdown",
      "metadata": {
        "id": "pEBWEc38JMeo"
      },
      "source": [
        "## Построение моделей"
      ]
    },
    {
      "cell_type": "markdown",
      "metadata": {
        "id": "EXcRbvpI_696"
      },
      "source": [
        "1. Алгоритм k-NN заключается в нахождении расстояния от нового объекта до каждого объекта тренировочных данных и присвоении наиболее часто встречающегося класса новому объекту среди k ближайших объектов.\n",
        "\n",
        "2. В основе логистической регрессии лежит логистическая функция (сигмоида).\n",
        "\n",
        "3. XGBoost классификатор - это алгоритм бустинга над решающими деревьями, который последовательно обучает деревья, пытаясь уменьшить ошибку всего ансамбля."
      ]
    },
    {
      "cell_type": "markdown",
      "metadata": {
        "id": "zzyHD1VG2a2G"
      },
      "source": [
        "### Данные без выбросов"
      ]
    },
    {
      "cell_type": "code",
      "execution_count": 23,
      "metadata": {
        "id": "Y0TiwynhD5L_"
      },
      "outputs": [],
      "source": [
        "# разделим обработанный несбалансированный набор данных на два: тренировочный и тестовый\n",
        "X_train, X_test, y_train, y_test = train_test_split(X, y, random_state=0)"
      ]
    },
    {
      "cell_type": "markdown",
      "metadata": {
        "id": "0vWXQtJNJZQy"
      },
      "source": [
        "#### K-Nearest Neighbors"
      ]
    },
    {
      "cell_type": "code",
      "execution_count": 24,
      "metadata": {
        "id": "YKYz_ys5z4sV"
      },
      "outputs": [],
      "source": [
        "knn = KNeighborsClassifier() # количество соседей: 5, метрика: Евклидово расстояние"
      ]
    },
    {
      "cell_type": "code",
      "execution_count": 25,
      "metadata": {
        "colab": {
          "base_uri": "https://localhost:8080/"
        },
        "id": "jKdMpIFQz4u9",
        "outputId": "d3db0dd5-074f-4dd1-fe70-9e1d8fc7da37"
      },
      "outputs": [
        {
          "output_type": "execute_result",
          "data": {
            "text/plain": [
              "KNeighborsClassifier()"
            ]
          },
          "metadata": {},
          "execution_count": 25
        }
      ],
      "source": [
        "knn.fit(X_train, y_train) # тренировка модели"
      ]
    },
    {
      "cell_type": "code",
      "execution_count": 26,
      "metadata": {
        "id": "U8-Rr46iz4xK"
      },
      "outputs": [],
      "source": [
        "y_pred = knn.predict(X_test) # предсказываем отклик для тестового набора признаков"
      ]
    },
    {
      "cell_type": "code",
      "execution_count": 27,
      "metadata": {
        "colab": {
          "base_uri": "https://localhost:8080/",
          "height": 295
        },
        "id": "bSR-_BBFF3sK",
        "outputId": "431db0f9-4edd-40ae-96be-01b05687d0e1"
      },
      "outputs": [
        {
          "output_type": "display_data",
          "data": {
            "text/plain": [
              "<Figure size 432x288 with 1 Axes>"
            ],
            "image/png": "[encoded data removed]"
          },
          "metadata": {
            "needs_background": "light"
          }
        }
      ],
      "source": [
        "# AUPRC\n",
        "display = PrecisionRecallDisplay.from_predictions(y_test, y_pred, name=\"KNN\")\n",
        "display.ax_.set_title(\"2-классовая кривая Precision-Recall для k-NN\")\n",
        "plt.show()"
      ]
    },
    {
      "cell_type": "markdown",
      "metadata": {
        "id": "xZlpsAqqBVee"
      },
      "source": [
        "Average precision:"
      ]
    },
    {
      "cell_type": "markdown",
      "metadata": {
        "id": "WQAPX5ufGdod"
      },
      "source": [
        "![image.png](data:image/png;base64,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)"
      ]
    },
    {
      "cell_type": "markdown",
      "metadata": {
        "id": "x-H8feRUBVef"
      },
      "source": [
        "где Rn - значение Recall в n-ом пороге, Pn - значение Precision в n-ом пороге."
      ]
    },
    {
      "cell_type": "code",
      "execution_count": 28,
      "metadata": {
        "colab": {
          "base_uri": "https://localhost:8080/"
        },
        "id": "aRO_G7MGLCwB",
        "outputId": "440cd045-d854-4060-f082-ba72b2a3cfcc"
      },
      "outputs": [
        {
          "output_type": "stream",
          "name": "stdout",
          "text": [
            "              precision    recall  f1-score   support\n",
            "\n",
            "           0       1.00      1.00      1.00     71082\n",
            "           1       0.90      0.68      0.78       120\n",
            "\n",
            "    accuracy                           1.00     71202\n",
            "   macro avg       0.95      0.84      0.89     71202\n",
            "weighted avg       1.00      1.00      1.00     71202\n",
            "\n"
          ]
        }
      ],
      "source": [
        "print(classification_report(y_test, y_pred)) # основные метрики классификации"
      ]
    },
    {
      "cell_type": "markdown",
      "metadata": {
        "id": "hTTudF2tLAYq"
      },
      "source": [
        "#### Logistic Regression"
      ]
    },
    {
      "cell_type": "code",
      "execution_count": 29,
      "metadata": {
        "id": "ad_n1cSNHSDz"
      },
      "outputs": [],
      "source": [
        "log_reg = LogisticRegression() # пороговое значение: 0.5"
      ]
    },
    {
      "cell_type": "code",
      "execution_count": 30,
      "metadata": {
        "colab": {
          "base_uri": "https://localhost:8080/"
        },
        "id": "le5TMaDaHSGG",
        "outputId": "9cec3eef-4a0b-40bd-c721-8b9ecab49f16"
      },
      "outputs": [
        {
          "output_type": "execute_result",
          "data": {
            "text/plain": [
              "LogisticRegression()"
            ]
          },
          "metadata": {},
          "execution_count": 30
        }
      ],
      "source": [
        "log_reg.fit(X_train, y_train)"
      ]
    },
    {
      "cell_type": "code",
      "execution_count": 31,
      "metadata": {
        "id": "GuNxRjXeHSIG"
      },
      "outputs": [],
      "source": [
        "y_pred_1 = log_reg.predict(X_test)"
      ]
    },
    {
      "cell_type": "code",
      "execution_count": 32,
      "metadata": {
        "colab": {
          "base_uri": "https://localhost:8080/",
          "height": 295
        },
        "id": "qQWxcIFWHSMb",
        "outputId": "c7f6e2dd-151b-4423-9659-c7edfe5d46e9"
      },
      "outputs": [
        {
          "output_type": "display_data",
          "data": {
            "text/plain": [
              "<Figure size 432x288 with 1 Axes>"
            ],
            "image/png": "[encoded data removed]"
          },
          "metadata": {
            "needs_background": "light"
          }
        }
      ],
      "source": [
        "display = PrecisionRecallDisplay.from_predictions(y_test, y_pred_1, name=\"LogReg\")\n",
        "display.ax_.set_title(\"2-классовая кривая Precision-Recall для LogReg\")\n",
        "plt.show()"
      ]
    },
    {
      "cell_type": "code",
      "execution_count": 33,
      "metadata": {
        "colab": {
          "base_uri": "https://localhost:8080/"
        },
        "id": "IFDxsCYU5PIH",
        "outputId": "ba01fa29-ba74-4586-f649-f1445277ad39"
      },
      "outputs": [
        {
          "output_type": "stream",
          "name": "stdout",
          "text": [
            "              precision    recall  f1-score   support\n",
            "\n",
            "           0       1.00      1.00      1.00     71082\n",
            "           1       0.79      0.55      0.65       120\n",
            "\n",
            "    accuracy                           1.00     71202\n",
            "   macro avg       0.89      0.77      0.82     71202\n",
            "weighted avg       1.00      1.00      1.00     71202\n",
            "\n"
          ]
        }
      ],
      "source": [
        "print(classification_report(y_test, y_pred_1))"
      ]
    },
    {
      "cell_type": "markdown",
      "metadata": {
        "id": "Pt6FODKdwpW-"
      },
      "source": [
        "#### XGBClassifier"
      ]
    },
    {
      "cell_type": "code",
      "execution_count": 34,
      "metadata": {
        "id": "W1vL6vjHHSOj"
      },
      "outputs": [],
      "source": [
        "xgb = XGBClassifier()"
      ]
    },
    {
      "cell_type": "code",
      "execution_count": 35,
      "metadata": {
        "colab": {
          "base_uri": "https://localhost:8080/"
        },
        "id": "wYfyuk8hHSQ9",
        "outputId": "1e4efb60-7820-453f-ea1c-f44f7c1df472"
      },
      "outputs": [
        {
          "output_type": "execute_result",
          "data": {
            "text/plain": [
              "XGBClassifier()"
            ]
          },
          "metadata": {},
          "execution_count": 35
        }
      ],
      "source": [
        "xgb.fit(X_train, y_train)"
      ]
    },
    {
      "cell_type": "code",
      "execution_count": 36,
      "metadata": {
        "id": "wHT8TW_LGhji"
      },
      "outputs": [],
      "source": [
        "y_pred_2 = xgb.predict(X_test)"
      ]
    },
    {
      "cell_type": "code",
      "execution_count": 37,
      "metadata": {
        "colab": {
          "base_uri": "https://localhost:8080/",
          "height": 295
        },
        "id": "ov_wBN0oHnGD",
        "outputId": "1c911bd0-748b-4b71-978d-8badd4f1cca0"
      },
      "outputs": [
        {
          "output_type": "display_data",
          "data": {
            "text/plain": [
              "<Figure size 432x288 with 1 Axes>"
            ],
            "image/png": "[encoded data removed]"
          },
          "metadata": {
            "needs_background": "light"
          }
        }
      ],
      "source": [
        "display = PrecisionRecallDisplay.from_predictions(y_test, y_pred_2, name=\"XGB\")\n",
        "display.ax_.set_title(\"2-классовая кривая Precision-Recall для XGB\")\n",
        "plt.show()"
      ]
    },
    {
      "cell_type": "code",
      "execution_count": 38,
      "metadata": {
        "colab": {
          "base_uri": "https://localhost:8080/"
        },
        "id": "HzkshRT35P6v",
        "outputId": "96638507-9443-474e-d13a-9332a430b4c9"
      },
      "outputs": [
        {
          "output_type": "stream",
          "name": "stdout",
          "text": [
            "              precision    recall  f1-score   support\n",
            "\n",
            "           0       1.00      1.00      1.00     71082\n",
            "           1       0.87      0.77      0.81       120\n",
            "\n",
            "    accuracy                           1.00     71202\n",
            "   macro avg       0.93      0.88      0.91     71202\n",
            "weighted avg       1.00      1.00      1.00     71202\n",
            "\n"
          ]
        }
      ],
      "source": [
        "print(classification_report(y_test, y_pred_2))"
      ]
    },
    {
      "cell_type": "markdown",
      "metadata": {
        "id": "ycLNNifVBVeh"
      },
      "source": [
        "---"
      ]
    },
    {
      "cell_type": "markdown",
      "metadata": {
        "id": "i7h58RQAH-fs"
      },
      "source": [
        "### Метрики на сбалансированных данных"
      ]
    },
    {
      "cell_type": "code",
      "execution_count": 39,
      "metadata": {
        "id": "vP2XxPi6H94L"
      },
      "outputs": [],
      "source": [
        "balanced_X, balanced_y = balanced_set.drop(['Class'], axis=1), balanced_set[['Class']]"
      ]
    },
    {
      "cell_type": "code",
      "execution_count": 40,
      "metadata": {
        "id": "putTmgwwH960"
      },
      "outputs": [],
      "source": [
        "X_train_balanced, X_test_balanced, y_train_balanced, y_test_balanced = train_test_split(balanced_X, balanced_y, random_state=0)"
      ]
    },
    {
      "cell_type": "markdown",
      "metadata": {
        "id": "HT1o7KM45Tng"
      },
      "source": [
        "#### K-Nearest Neighbors"
      ]
    },
    {
      "cell_type": "code",
      "execution_count": 41,
      "metadata": {
        "id": "DgpjQiwuH99N"
      },
      "outputs": [],
      "source": [
        "knn = KNeighborsClassifier()"
      ]
    },
    {
      "cell_type": "code",
      "execution_count": 42,
      "metadata": {
        "colab": {
          "base_uri": "https://localhost:8080/"
        },
        "id": "pdB5IopZ5IOD",
        "outputId": "ca8592cf-cfff-409b-e66d-22ce10775837"
      },
      "outputs": [
        {
          "output_type": "execute_result",
          "data": {
            "text/plain": [
              "KNeighborsClassifier()"
            ]
          },
          "metadata": {},
          "execution_count": 42
        }
      ],
      "source": [
        "knn.fit(X_train_balanced, y_train_balanced)"
      ]
    },
    {
      "cell_type": "code",
      "execution_count": 43,
      "metadata": {
        "id": "znFhnEYCH9_v"
      },
      "outputs": [],
      "source": [
        "y_pred_balanced = knn.predict(X_test_balanced)"
      ]
    },
    {
      "cell_type": "code",
      "execution_count": 44,
      "metadata": {
        "colab": {
          "base_uri": "https://localhost:8080/",
          "height": 295
        },
        "id": "hVLcnW80H-CR",
        "outputId": "22d14421-9a6c-46d4-90fa-e721ed5fb775"
      },
      "outputs": [
        {
          "output_type": "display_data",
          "data": {
            "text/plain": [
              "<Figure size 432x288 with 1 Axes>"
            ],
            "image/png": "[encoded data removed]"
          },
          "metadata": {
            "needs_background": "light"
          }
        }
      ],
      "source": [
        "display = PrecisionRecallDisplay.from_predictions(y_test_balanced, y_pred_balanced, name=\"KNN\")\n",
        "display.ax_.set_title(\"2-class Precision-Recall curve\")\n",
        "plt.show()"
      ]
    },
    {
      "cell_type": "code",
      "execution_count": 45,
      "metadata": {
        "colab": {
          "base_uri": "https://localhost:8080/"
        },
        "id": "jWPqUp9qIwND",
        "outputId": "d8279ac8-a45a-41d1-9c3b-ae828b7f654a"
      },
      "outputs": [
        {
          "output_type": "stream",
          "name": "stdout",
          "text": [
            "              precision    recall  f1-score   support\n",
            "\n",
            "           0       0.91      1.00      0.95       122\n",
            "           1       1.00      0.90      0.95       124\n",
            "\n",
            "    accuracy                           0.95       246\n",
            "   macro avg       0.96      0.95      0.95       246\n",
            "weighted avg       0.96      0.95      0.95       246\n",
            "\n"
          ]
        }
      ],
      "source": [
        "print(classification_report(y_test_balanced, y_pred_balanced))"
      ]
    },
    {
      "cell_type": "markdown",
      "metadata": {
        "id": "wRoouL0D5gyo"
      },
      "source": [
        "#### Logistic Regression"
      ]
    },
    {
      "cell_type": "code",
      "execution_count": 46,
      "metadata": {
        "id": "nkjoQdijJD8t"
      },
      "outputs": [],
      "source": [
        "log_reg = LogisticRegression()"
      ]
    },
    {
      "cell_type": "code",
      "execution_count": 47,
      "metadata": {
        "colab": {
          "base_uri": "https://localhost:8080/"
        },
        "id": "CpkfeTQT5h6H",
        "outputId": "ea2a3b1e-e474-46a3-efa7-75ec8f4e4a2f"
      },
      "outputs": [
        {
          "output_type": "execute_result",
          "data": {
            "text/plain": [
              "LogisticRegression()"
            ]
          },
          "metadata": {},
          "execution_count": 47
        }
      ],
      "source": [
        "log_reg.fit(X_train_balanced, y_train_balanced)"
      ]
    },
    {
      "cell_type": "code",
      "execution_count": 48,
      "metadata": {
        "id": "wYRab0nXJEEq"
      },
      "outputs": [],
      "source": [
        "y_pred_balanced_1 = log_reg.predict(X_test_balanced)"
      ]
    },
    {
      "cell_type": "code",
      "execution_count": 49,
      "metadata": {
        "colab": {
          "base_uri": "https://localhost:8080/",
          "height": 295
        },
        "id": "735cl8RBJNlq",
        "outputId": "082fb755-905e-4af3-89e7-b9661d0a25ad"
      },
      "outputs": [
        {
          "output_type": "display_data",
          "data": {
            "text/plain": [
              "<Figure size 432x288 with 1 Axes>"
            ],
            "image/png": "[encoded data removed]"
          },
          "metadata": {
            "needs_background": "light"
          }
        }
      ],
      "source": [
        "display = PrecisionRecallDisplay.from_predictions(y_test_balanced, y_pred_balanced_1, name=\"Log_reg\")\n",
        "display.ax_.set_title(\"2-class Precision-Recall curve\")\n",
        "plt.show()"
      ]
    },
    {
      "cell_type": "code",
      "execution_count": 50,
      "metadata": {
        "colab": {
          "base_uri": "https://localhost:8080/"
        },
        "id": "pw61fISQJUwC",
        "outputId": "ef0daad8-5b62-4294-8d76-577d61f5afca"
      },
      "outputs": [
        {
          "output_type": "stream",
          "name": "stdout",
          "text": [
            "              precision    recall  f1-score   support\n",
            "\n",
            "           0       0.99      1.00      1.00       122\n",
            "           1       1.00      0.99      1.00       124\n",
            "\n",
            "    accuracy                           1.00       246\n",
            "   macro avg       1.00      1.00      1.00       246\n",
            "weighted avg       1.00      1.00      1.00       246\n",
            "\n"
          ]
        }
      ],
      "source": [
        "print(classification_report(y_test_balanced, y_pred_balanced_1))"
      ]
    },
    {
      "cell_type": "markdown",
      "metadata": {
        "id": "7kVNpB-q5q-7"
      },
      "source": [
        "#### XGBClassifier"
      ]
    },
    {
      "cell_type": "code",
      "execution_count": 51,
      "metadata": {
        "id": "w4UCzTTHJXvN"
      },
      "outputs": [],
      "source": [
        "xgb = XGBClassifier()"
      ]
    },
    {
      "cell_type": "code",
      "execution_count": 52,
      "metadata": {
        "colab": {
          "base_uri": "https://localhost:8080/"
        },
        "id": "2zPsTBFt5wUA",
        "outputId": "6c60d5b1-224c-480d-f632-dc8c9e5e8161"
      },
      "outputs": [
        {
          "output_type": "execute_result",
          "data": {
            "text/plain": [
              "XGBClassifier()"
            ]
          },
          "metadata": {},
          "execution_count": 52
        }
      ],
      "source": [
        "xgb.fit(X_train_balanced, y_train_balanced)"
      ]
    },
    {
      "cell_type": "code",
      "execution_count": 53,
      "metadata": {
        "id": "PYdSGMKoJdtz"
      },
      "outputs": [],
      "source": [
        "y_pred_balanced_2 = xgb.predict(X_test_balanced)"
      ]
    },
    {
      "cell_type": "code",
      "execution_count": 54,
      "metadata": {
        "colab": {
          "base_uri": "https://localhost:8080/",
          "height": 295
        },
        "id": "zhubSKLmJglN",
        "outputId": "c1ad33ee-1581-4196-902a-1db2567bd9a2"
      },
      "outputs": [
        {
          "output_type": "display_data",
          "data": {
            "text/plain": [
              "<Figure size 432x288 with 1 Axes>"
            ],
            "image/png": "[encoded data removed]"
          },
          "metadata": {
            "needs_background": "light"
          }
        }
      ],
      "source": [
        "display = PrecisionRecallDisplay.from_predictions(y_test_balanced, y_pred_balanced_2, name=\"XGB\")\n",
        "display.ax_.set_title(\"2-class Precision-Recall curve\")\n",
        "plt.show()"
      ]
    },
    {
      "cell_type": "code",
      "execution_count": 55,
      "metadata": {
        "colab": {
          "base_uri": "https://localhost:8080/"
        },
        "id": "6N0vpu7W6E3D",
        "outputId": "d68b2f14-d6b3-48b6-b60f-e65911e7dc95"
      },
      "outputs": [
        {
          "output_type": "stream",
          "name": "stdout",
          "text": [
            "              precision    recall  f1-score   support\n",
            "\n",
            "           0       1.00      1.00      1.00       122\n",
            "           1       1.00      1.00      1.00       124\n",
            "\n",
            "    accuracy                           1.00       246\n",
            "   macro avg       1.00      1.00      1.00       246\n",
            "weighted avg       1.00      1.00      1.00       246\n",
            "\n"
          ]
        }
      ],
      "source": [
        "print(classification_report(y_test_balanced, y_pred_balanced_2))"
      ]
    },
    {
      "cell_type": "markdown",
      "metadata": {
        "id": "8CCwYdw-6ZoT"
      },
      "source": [
        "---"
      ]
    },
    {
      "cell_type": "markdown",
      "metadata": {
        "id": "IVpCm1ow54Ch"
      },
      "source": [
        "## Данные с выбросами"
      ]
    },
    {
      "cell_type": "code",
      "execution_count": 56,
      "metadata": {
        "id": "tY6bzdl86Wha"
      },
      "outputs": [],
      "source": [
        "X_train, X_test, y_train, y_test = train_test_split(data.drop(['Class'], axis=1), y, random_state=0)"
      ]
    },
    {
      "cell_type": "markdown",
      "metadata": {
        "id": "9WDSc2Lv6Whc"
      },
      "source": [
        "#### K-Nearest Neighbors"
      ]
    },
    {
      "cell_type": "code",
      "execution_count": 57,
      "metadata": {
        "id": "rny7lHes6Whc"
      },
      "outputs": [],
      "source": [
        "knn = KNeighborsClassifier()"
      ]
    },
    {
      "cell_type": "code",
      "execution_count": 58,
      "metadata": {
        "colab": {
          "base_uri": "https://localhost:8080/"
        },
        "id": "bRfS9a476Whd",
        "outputId": "5366401d-9838-4546-c5ff-49f443f9f045"
      },
      "outputs": [
        {
          "output_type": "execute_result",
          "data": {
            "text/plain": [
              "KNeighborsClassifier()"
            ]
          },
          "metadata": {},
          "execution_count": 58
        }
      ],
      "source": [
        "knn.fit(X_train, y_train)"
      ]
    },
    {
      "cell_type": "code",
      "execution_count": 59,
      "metadata": {
        "id": "nfFNVbrH6Whd"
      },
      "outputs": [],
      "source": [
        "y_pred = knn.predict(X_test)"
      ]
    },
    {
      "cell_type": "code",
      "execution_count": 60,
      "metadata": {
        "colab": {
          "base_uri": "https://localhost:8080/",
          "height": 295
        },
        "id": "3A6A7EFX6Whd",
        "outputId": "f1a10689-2787-4fd7-d479-dc19f2f0b0e7"
      },
      "outputs": [
        {
          "output_type": "display_data",
          "data": {
            "text/plain": [
              "<Figure size 432x288 with 1 Axes>"
            ],
            "image/png": "[encoded data removed]"
          },
          "metadata": {
            "needs_background": "light"
          }
        }
      ],
      "source": [
        "display = PrecisionRecallDisplay.from_predictions(y_test, y_pred, name=\"KNN\")\n",
        "display.ax_.set_title(\"2-классовая кривая Precision-Recall для k-NN\")\n",
        "plt.show()"
      ]
    },
    {
      "cell_type": "code",
      "execution_count": 61,
      "metadata": {
        "colab": {
          "base_uri": "https://localhost:8080/"
        },
        "id": "gpH0TtOF6Whe",
        "outputId": "e8ef289d-5a69-41ac-c024-9c19080b42ae"
      },
      "outputs": [
        {
          "output_type": "stream",
          "name": "stdout",
          "text": [
            "              precision    recall  f1-score   support\n",
            "\n",
            "           0       1.00      1.00      1.00     71082\n",
            "           1       0.93      0.77      0.84       120\n",
            "\n",
            "    accuracy                           1.00     71202\n",
            "   macro avg       0.96      0.88      0.92     71202\n",
            "weighted avg       1.00      1.00      1.00     71202\n",
            "\n"
          ]
        }
      ],
      "source": [
        "print(classification_report(y_test, y_pred))"
      ]
    },
    {
      "cell_type": "markdown",
      "metadata": {
        "id": "W9AjGiIn6Whe"
      },
      "source": [
        "#### Logistic Regression"
      ]
    },
    {
      "cell_type": "code",
      "execution_count": 62,
      "metadata": {
        "id": "7OM6qpHY6Whe"
      },
      "outputs": [],
      "source": [
        "log_reg = LogisticRegression()"
      ]
    },
    {
      "cell_type": "code",
      "execution_count": 63,
      "metadata": {
        "colab": {
          "base_uri": "https://localhost:8080/"
        },
        "id": "GcPgt1jT6Whe",
        "outputId": "62363c46-9af5-4b2b-aaf7-c79dc5c1f85e"
      },
      "outputs": [
        {
          "output_type": "execute_result",
          "data": {
            "text/plain": [
              "LogisticRegression()"
            ]
          },
          "metadata": {},
          "execution_count": 63
        }
      ],
      "source": [
        "log_reg.fit(X_train, y_train)"
      ]
    },
    {
      "cell_type": "code",
      "execution_count": 64,
      "metadata": {
        "id": "jCu7cxA16Whe"
      },
      "outputs": [],
      "source": [
        "y_pred_1 = log_reg.predict(X_test)"
      ]
    },
    {
      "cell_type": "code",
      "execution_count": 65,
      "metadata": {
        "colab": {
          "base_uri": "https://localhost:8080/",
          "height": 295
        },
        "id": "SUlpEPWx6Whe",
        "outputId": "1e292cc2-bfb7-4787-caaa-64ee6f8a97cc"
      },
      "outputs": [
        {
          "output_type": "display_data",
          "data": {
            "text/plain": [
              "<Figure size 432x288 with 1 Axes>"
            ],
            "image/png": "[encoded data removed]"
          },
          "metadata": {
            "needs_background": "light"
          }
        }
      ],
      "source": [
        "display = PrecisionRecallDisplay.from_predictions(y_test, y_pred_1, name=\"LogReg\")\n",
        "display.ax_.set_title(\"2-классовая кривая Precision-Recall для LogReg\")\n",
        "plt.show()"
      ]
    },
    {
      "cell_type": "code",
      "execution_count": 66,
      "metadata": {
        "colab": {
          "base_uri": "https://localhost:8080/"
        },
        "id": "RTV_uF1T6Whe",
        "outputId": "142c3649-af33-4e29-897c-2bfa5956aaf8"
      },
      "outputs": [
        {
          "output_type": "stream",
          "name": "stdout",
          "text": [
            "              precision    recall  f1-score   support\n",
            "\n",
            "           0       1.00      1.00      1.00     71082\n",
            "           1       0.88      0.66      0.75       120\n",
            "\n",
            "    accuracy                           1.00     71202\n",
            "   macro avg       0.94      0.83      0.88     71202\n",
            "weighted avg       1.00      1.00      1.00     71202\n",
            "\n"
          ]
        }
      ],
      "source": [
        "print(classification_report(y_test, y_pred_1))"
      ]
    },
    {
      "cell_type": "markdown",
      "metadata": {
        "id": "50-FVyie6Whf"
      },
      "source": [
        "#### XGBClassifier"
      ]
    },
    {
      "cell_type": "code",
      "execution_count": 67,
      "metadata": {
        "id": "8wbnP70A6Whf"
      },
      "outputs": [],
      "source": [
        "xgb = XGBClassifier()"
      ]
    },
    {
      "cell_type": "code",
      "execution_count": 68,
      "metadata": {
        "colab": {
          "base_uri": "https://localhost:8080/"
        },
        "id": "e0CyU8Rd6Whf",
        "outputId": "1455d77e-2f7d-4f79-e84f-caa07906aaf3"
      },
      "outputs": [
        {
          "output_type": "execute_result",
          "data": {
            "text/plain": [
              "XGBClassifier()"
            ]
          },
          "metadata": {},
          "execution_count": 68
        }
      ],
      "source": [
        "xgb.fit(X_train, y_train)"
      ]
    },
    {
      "cell_type": "code",
      "execution_count": 69,
      "metadata": {
        "id": "Tb74whz16Whf"
      },
      "outputs": [],
      "source": [
        "y_pred_2 = xgb.predict(X_test)"
      ]
    },
    {
      "cell_type": "code",
      "execution_count": 70,
      "metadata": {
        "colab": {
          "base_uri": "https://localhost:8080/",
          "height": 295
        },
        "id": "H0oyCePo6Whf",
        "outputId": "aeecf143-59ed-4bce-861a-d33b16954813"
      },
      "outputs": [
        {
          "output_type": "display_data",
          "data": {
            "text/plain": [
              "<Figure size 432x288 with 1 Axes>"
            ],
            "image/png": "[encoded data removed]"
          },
          "metadata": {
            "needs_background": "light"
          }
        }
      ],
      "source": [
        "display = PrecisionRecallDisplay.from_predictions(y_test, y_pred_2, name=\"XGB\")\n",
        "display.ax_.set_title(\"2-классовая кривая Precision-Recall для XGB\")\n",
        "plt.show()"
      ]
    },
    {
      "cell_type": "code",
      "execution_count": 71,
      "metadata": {
        "colab": {
          "base_uri": "https://localhost:8080/"
        },
        "id": "frtf0LLx6Whf",
        "outputId": "9cd43752-2718-4c69-abb2-e63a009f58c0"
      },
      "outputs": [
        {
          "output_type": "stream",
          "name": "stdout",
          "text": [
            "              precision    recall  f1-score   support\n",
            "\n",
            "           0       1.00      1.00      1.00     71082\n",
            "           1       0.92      0.78      0.84       120\n",
            "\n",
            "    accuracy                           1.00     71202\n",
            "   macro avg       0.96      0.89      0.92     71202\n",
            "weighted avg       1.00      1.00      1.00     71202\n",
            "\n"
          ]
        }
      ],
      "source": [
        "print(classification_report(y_test, y_pred_2))"
      ]
    },
    {
      "cell_type": "markdown",
      "metadata": {
        "id": "6NRDUB0BBVeo"
      },
      "source": [
        "---"
      ]
    },
    {
      "cell_type": "markdown",
      "metadata": {
        "id": "0P-WrEJx6Whf"
      },
      "source": [
        "### Метрики на сбалансированных данных"
      ]
    },
    {
      "cell_type": "code",
      "execution_count": 72,
      "metadata": {
        "id": "UrIG_GUJ6Whg"
      },
      "outputs": [],
      "source": [
        "balanced_X, balanced_y = balanced_set.drop(['Class'], axis=1), balanced_set[['Class']]"
      ]
    },
    {
      "cell_type": "code",
      "execution_count": 73,
      "metadata": {
        "id": "Gu5ZaTA56Whg"
      },
      "outputs": [],
      "source": [
        "X_train_balanced, X_test_balanced, y_train_balanced, y_test_balanced = train_test_split(balanced_X, balanced_y, random_state=0)"
      ]
    },
    {
      "cell_type": "markdown",
      "metadata": {
        "id": "Dx0nGOie6Whg"
      },
      "source": [
        "#### K-Nearest Neighbors"
      ]
    },
    {
      "cell_type": "code",
      "execution_count": 74,
      "metadata": {
        "id": "FpI02Hk66Whg"
      },
      "outputs": [],
      "source": [
        "knn = KNeighborsClassifier()"
      ]
    },
    {
      "cell_type": "code",
      "execution_count": 75,
      "metadata": {
        "colab": {
          "base_uri": "https://localhost:8080/"
        },
        "id": "-FHo-GfF6Whg",
        "outputId": "146139d5-89ba-406b-9e7b-267c70e4a98a"
      },
      "outputs": [
        {
          "output_type": "execute_result",
          "data": {
            "text/plain": [
              "KNeighborsClassifier()"
            ]
          },
          "metadata": {},
          "execution_count": 75
        }
      ],
      "source": [
        "knn.fit(X_train_balanced, y_train_balanced)"
      ]
    },
    {
      "cell_type": "code",
      "execution_count": 76,
      "metadata": {
        "id": "XrC809V06Whg"
      },
      "outputs": [],
      "source": [
        "y_pred_balanced = knn.predict(X_test_balanced)"
      ]
    },
    {
      "cell_type": "code",
      "execution_count": 77,
      "metadata": {
        "colab": {
          "base_uri": "https://localhost:8080/",
          "height": 295
        },
        "id": "IEqti3kn6Whg",
        "outputId": "23575716-0d8b-4699-cd6b-4fddb89620d4"
      },
      "outputs": [
        {
          "output_type": "display_data",
          "data": {
            "text/plain": [
              "<Figure size 432x288 with 1 Axes>"
            ],
            "image/png": "[encoded data removed]"
          },
          "metadata": {
            "needs_background": "light"
          }
        }
      ],
      "source": [
        "display = PrecisionRecallDisplay.from_predictions(y_test_balanced, y_pred_balanced, name=\"KNN\")\n",
        "display.ax_.set_title(\"2-class Precision-Recall curve\")\n",
        "plt.show()"
      ]
    },
    {
      "cell_type": "code",
      "execution_count": 78,
      "metadata": {
        "colab": {
          "base_uri": "https://localhost:8080/"
        },
        "id": "VkcFML136Whg",
        "outputId": "59bf65b0-078a-4d57-e377-3e1698b272de"
      },
      "outputs": [
        {
          "output_type": "stream",
          "name": "stdout",
          "text": [
            "              precision    recall  f1-score   support\n",
            "\n",
            "           0       0.91      1.00      0.95       122\n",
            "           1       1.00      0.90      0.95       124\n",
            "\n",
            "    accuracy                           0.95       246\n",
            "   macro avg       0.96      0.95      0.95       246\n",
            "weighted avg       0.96      0.95      0.95       246\n",
            "\n"
          ]
        }
      ],
      "source": [
        "print(classification_report(y_test_balanced, y_pred_balanced))"
      ]
    },
    {
      "cell_type": "markdown",
      "metadata": {
        "id": "mIY492Su6Whh"
      },
      "source": [
        "#### Logistic Regression"
      ]
    },
    {
      "cell_type": "code",
      "execution_count": 79,
      "metadata": {
        "id": "5nU9Iw-Y6Whh"
      },
      "outputs": [],
      "source": [
        "log_reg = LogisticRegression()"
      ]
    },
    {
      "cell_type": "code",
      "execution_count": 80,
      "metadata": {
        "colab": {
          "base_uri": "https://localhost:8080/"
        },
        "id": "JP597IdO6Whh",
        "outputId": "1c624e7e-3365-4b17-b9e8-ff889be3f112"
      },
      "outputs": [
        {
          "output_type": "execute_result",
          "data": {
            "text/plain": [
              "LogisticRegression()"
            ]
          },
          "metadata": {},
          "execution_count": 80
        }
      ],
      "source": [
        "log_reg.fit(X_train_balanced, y_train_balanced)"
      ]
    },
    {
      "cell_type": "code",
      "execution_count": 81,
      "metadata": {
        "id": "oJtNX1SO6Whh"
      },
      "outputs": [],
      "source": [
        "y_pred_balanced_1 = log_reg.predict(X_test_balanced)"
      ]
    },
    {
      "cell_type": "code",
      "execution_count": 82,
      "metadata": {
        "colab": {
          "base_uri": "https://localhost:8080/",
          "height": 295
        },
        "id": "uu0ZOsUI6Whh",
        "outputId": "eba15236-a745-4b39-f988-4b3f3a995be7"
      },
      "outputs": [
        {
          "output_type": "display_data",
          "data": {
            "text/plain": [
              "<Figure size 432x288 with 1 Axes>"
            ],
            "image/png": "[encoded data removed]"
          },
          "metadata": {
            "needs_background": "light"
          }
        }
      ],
      "source": [
        "display = PrecisionRecallDisplay.from_predictions(y_test_balanced, y_pred_balanced_1, name=\"Log_reg\")\n",
        "display.ax_.set_title(\"2-class Precision-Recall curve\")\n",
        "plt.show()"
      ]
    },
    {
      "cell_type": "code",
      "execution_count": 83,
      "metadata": {
        "colab": {
          "base_uri": "https://localhost:8080/"
        },
        "id": "OY9zHQxb6Whh",
        "outputId": "b26ca006-34b3-4978-ea78-4c1383ee966e"
      },
      "outputs": [
        {
          "output_type": "stream",
          "name": "stdout",
          "text": [
            "              precision    recall  f1-score   support\n",
            "\n",
            "           0       0.99      1.00      1.00       122\n",
            "           1       1.00      0.99      1.00       124\n",
            "\n",
            "    accuracy                           1.00       246\n",
            "   macro avg       1.00      1.00      1.00       246\n",
            "weighted avg       1.00      1.00      1.00       246\n",
            "\n"
          ]
        }
      ],
      "source": [
        "print(classification_report(y_test_balanced, y_pred_balanced_1))"
      ]
    },
    {
      "cell_type": "markdown",
      "metadata": {
        "id": "MaKyCHeV6Whi"
      },
      "source": [
        "#### XGBClassifier"
      ]
    },
    {
      "cell_type": "code",
      "execution_count": 84,
      "metadata": {
        "id": "ZtkjRBqc6Whi"
      },
      "outputs": [],
      "source": [
        "xgb = XGBClassifier()"
      ]
    },
    {
      "cell_type": "code",
      "execution_count": 85,
      "metadata": {
        "colab": {
          "base_uri": "https://localhost:8080/"
        },
        "id": "tT0AUdPo6Whi",
        "outputId": "38f83f14-4e7b-4e4f-8a9a-d6e45185f7ad"
      },
      "outputs": [
        {
          "output_type": "execute_result",
          "data": {
            "text/plain": [
              "XGBClassifier()"
            ]
          },
          "metadata": {},
          "execution_count": 85
        }
      ],
      "source": [
        "xgb.fit(X_train_balanced, y_train_balanced)"
      ]
    },
    {
      "cell_type": "code",
      "execution_count": 86,
      "metadata": {
        "id": "S7ZLueWK6Whi"
      },
      "outputs": [],
      "source": [
        "y_pred_balanced_2 = xgb.predict(X_test_balanced)"
      ]
    },
    {
      "cell_type": "code",
      "execution_count": 87,
      "metadata": {
        "colab": {
          "base_uri": "https://localhost:8080/",
          "height": 295
        },
        "id": "VMBXxgaG6Whi",
        "outputId": "529e82c0-a10b-417d-851e-d14f3abc60ac"
      },
      "outputs": [
        {
          "output_type": "display_data",
          "data": {
            "text/plain": [
              "<Figure size 432x288 with 1 Axes>"
            ],
            "image/png": "[encoded data removed]"
          },
          "metadata": {
            "needs_background": "light"
          }
        }
      ],
      "source": [
        "display = PrecisionRecallDisplay.from_predictions(y_test_balanced, y_pred_balanced_2, name=\"XGB\")\n",
        "display.ax_.set_title(\"2-class Precision-Recall curve\")\n",
        "plt.show()"
      ]
    },
    {
      "cell_type": "code",
      "execution_count": 88,
      "metadata": {
        "colab": {
          "base_uri": "https://localhost:8080/"
        },
        "id": "UZi2IPP46Whj",
        "outputId": "4a646420-f44d-46c3-8120-d5a76f28cdf2"
      },
      "outputs": [
        {
          "output_type": "stream",
          "name": "stdout",
          "text": [
            "              precision    recall  f1-score   support\n",
            "\n",
            "           0       1.00      1.00      1.00       122\n",
            "           1       1.00      1.00      1.00       124\n",
            "\n",
            "    accuracy                           1.00       246\n",
            "   macro avg       1.00      1.00      1.00       246\n",
            "weighted avg       1.00      1.00      1.00       246\n",
            "\n"
          ]
        }
      ],
      "source": [
        "print(classification_report(y_test_balanced, y_pred_balanced_2))"
      ]
    },
    {
      "cell_type": "markdown",
      "metadata": {
        "id": "jiVCRk-PBnBl"
      },
      "source": [
        "#### Результаты для данных без выбросов"
      ]
    },
    {
      "cell_type": "code",
      "execution_count": 89,
      "metadata": {
        "id": "7-IQn2AM-Xvi"
      },
      "outputs": [],
      "source": [
        "table = [['Модель', 'AP_несбалансировано', 'AP_сбалансировано'],\n",
        "         ['KNN',0.62, 0.95],\n",
        "         ['LogReg',0.43, 1.0],\n",
        "         ['XGB',0.67, 1.0]]"
      ]
    },
    {
      "cell_type": "code",
      "execution_count": 90,
      "metadata": {
        "colab": {
          "base_uri": "https://localhost:8080/"
        },
        "id": "cMUPfIdt-XyH",
        "outputId": "c6e1889f-4fc6-4139-ccd0-a6ca4f6d57b6"
      },
      "outputs": [
        {
          "output_type": "stream",
          "name": "stdout",
          "text": [
            "╒══════════╤═══════════════════════╤═════════════════════╕\n",
            "│ Модель   │   AP_несбалансировано │   AP_сбалансировано │\n",
            "╞══════════╪═══════════════════════╪═════════════════════╡\n",
            "│ KNN      │                  0.62 │                0.95 │\n",
            "├──────────┼───────────────────────┼─────────────────────┤\n",
            "│ LogReg   │                  0.43 │                1    │\n",
            "├──────────┼───────────────────────┼─────────────────────┤\n",
            "│ XGB      │                  0.67 │                1    │\n",
            "╘══════════╧═══════════════════════╧═════════════════════╛\n"
          ]
        }
      ],
      "source": [
        "print(tabulate(table, headers='firstrow', tablefmt='fancy_grid'))"
      ]
    },
    {
      "cell_type": "markdown",
      "metadata": {
        "id": "I7xz8MY3BrYX"
      },
      "source": [
        "#### Результаты для данных с выбросами"
      ]
    },
    {
      "cell_type": "code",
      "execution_count": 91,
      "metadata": {
        "id": "mLrY_D7VBPcl"
      },
      "outputs": [],
      "source": [
        "table = [['Модель', 'AP_несбалансировано', 'AP_сбалансировано'],\n",
        "         ['KNN',0.71, 0.95],\n",
        "         ['LogReg',0.58, 1.0],\n",
        "         ['XGB',0.71, 1.0]]"
      ]
    },
    {
      "cell_type": "code",
      "execution_count": 92,
      "metadata": {
        "colab": {
          "base_uri": "https://localhost:8080/"
        },
        "id": "iLpMUcsRBRsl",
        "outputId": "7ce36748-4ef4-4287-81a2-fd8a0c0e1181"
      },
      "outputs": [
        {
          "output_type": "stream",
          "name": "stdout",
          "text": [
            "╒══════════╤═══════════════════════╤═════════════════════╕\n",
            "│ Модель   │   AP_несбалансировано │   AP_сбалансировано │\n",
            "╞══════════╪═══════════════════════╪═════════════════════╡\n",
            "│ KNN      │                  0.71 │                0.95 │\n",
            "├──────────┼───────────────────────┼─────────────────────┤\n",
            "│ LogReg   │                  0.58 │                1    │\n",
            "├──────────┼───────────────────────┼─────────────────────┤\n",
            "│ XGB      │                  0.71 │                1    │\n",
            "╘══════════╧═══════════════════════╧═════════════════════╛\n"
          ]
        }
      ],
      "source": [
        "print(tabulate(table, headers='firstrow', tablefmt='fancy_grid'))"
      ]
    },
    {
      "cell_type": "markdown",
      "metadata": {
        "id": "wSk5c4IR9Xwm"
      },
      "source": [
        "---"
      ]
    },
    {
      "cell_type": "markdown",
      "metadata": {
        "id": "y8FZLcbF9Yfr"
      },
      "source": [
        "## Вывод"
      ]
    },
    {
      "cell_type": "markdown",
      "metadata": {
        "id": "vQJ_CN2o8sp5"
      },
      "source": [
        "Таким образом, в случае несбалансированных данных, все модели показали себя лучше на данных с выбросами. Качество предсказания моделей на сбалансированных данных превышает качество предсказания на несбалансированных. В совокупности экспериментов лучше всего с задачей справился XGB классификатор."
      ]
    }
  ],
  "metadata": {
    "colab": {
      "provenance": []
    },
    "kernelspec": {
      "display_name": "Python 3 (ipykernel)",
      "language": "python",
      "name": "python3"
    },
    "language_info": {
      "codemirror_mode": {
        "name": "ipython",
        "version": 3
      },
      "file_extension": ".py",
      "mimetype": "text/x-python",
      "name": "python",
      "nbconvert_exporter": "python",
      "pygments_lexer": "ipython3",
      "version": "3.10.6"
    }
  },
  "nbformat": 4,
  "nbformat_minor": 0
}